{
  "nbformat": 4,
  "nbformat_minor": 0,
  "metadata": {
    "colab": {
      "name": "Disney_recomm.ipynb",
      "provenance": [],
      "collapsed_sections": []
    },
    "kernelspec": {
      "name": "python3",
      "display_name": "Python 3"
    },
    "language_info": {
      "name": "python"
    },
    "widgets": {
      "application/vnd.jupyter.widget-state+json": {
        "2fa4b130339447aab7b0003fb2234e75": {
          "model_module": "@jupyter-widgets/controls",
          "model_name": "HBoxModel",
          "model_module_version": "1.5.0",
          "state": {
            "_dom_classes": [],
            "_model_module": "@jupyter-widgets/controls",
            "_model_module_version": "1.5.0",
            "_model_name": "HBoxModel",
            "_view_count": null,
            "_view_module": "@jupyter-widgets/controls",
            "_view_module_version": "1.5.0",
            "_view_name": "HBoxView",
            "box_style": "",
            "children": [
              "IPY_MODEL_964a505a4c9c408dbdc9eb966be13152",
              "IPY_MODEL_2712bccca4db4a919649edb02b1e8d21",
              "IPY_MODEL_2672b8d7284946a5b9c53a6eae4d8735"
            ],
            "layout": "IPY_MODEL_604a216b5c5b4da28cad3ef6a1ffeceb"
          }
        },
        "964a505a4c9c408dbdc9eb966be13152": {
          "model_module": "@jupyter-widgets/controls",
          "model_name": "HTMLModel",
          "model_module_version": "1.5.0",
          "state": {
            "_dom_classes": [],
            "_model_module": "@jupyter-widgets/controls",
            "_model_module_version": "1.5.0",
            "_model_name": "HTMLModel",
            "_view_count": null,
            "_view_module": "@jupyter-widgets/controls",
            "_view_module_version": "1.5.0",
            "_view_name": "HTMLView",
            "description": "",
            "description_tooltip": null,
            "layout": "IPY_MODEL_7e5374a9dcdb49e58202806475d61315",
            "placeholder": "​",
            "style": "IPY_MODEL_bf56e05ef9fc45a883b55c79f999e981",
            "value": "Downloading: 100%"
          }
        },
        "2712bccca4db4a919649edb02b1e8d21": {
          "model_module": "@jupyter-widgets/controls",
          "model_name": "FloatProgressModel",
          "model_module_version": "1.5.0",
          "state": {
            "_dom_classes": [],
            "_model_module": "@jupyter-widgets/controls",
            "_model_module_version": "1.5.0",
            "_model_name": "FloatProgressModel",
            "_view_count": null,
            "_view_module": "@jupyter-widgets/controls",
            "_view_module_version": "1.5.0",
            "_view_name": "ProgressView",
            "bar_style": "success",
            "description": "",
            "description_tooltip": null,
            "layout": "IPY_MODEL_30515610b6d5464abf6e54b38aea071d",
            "max": 231508,
            "min": 0,
            "orientation": "horizontal",
            "style": "IPY_MODEL_1a5e2d1e7ec84d8cb78760dedeaf61b1",
            "value": 231508
          }
        },
        "2672b8d7284946a5b9c53a6eae4d8735": {
          "model_module": "@jupyter-widgets/controls",
          "model_name": "HTMLModel",
          "model_module_version": "1.5.0",
          "state": {
            "_dom_classes": [],
            "_model_module": "@jupyter-widgets/controls",
            "_model_module_version": "1.5.0",
            "_model_name": "HTMLModel",
            "_view_count": null,
            "_view_module": "@jupyter-widgets/controls",
            "_view_module_version": "1.5.0",
            "_view_name": "HTMLView",
            "description": "",
            "description_tooltip": null,
            "layout": "IPY_MODEL_ba810e70f578478d846592db77a83bfc",
            "placeholder": "​",
            "style": "IPY_MODEL_05d35a509a45440f9b441a15aa205475",
            "value": " 226k/226k [00:00&lt;00:00, 847kB/s]"
          }
        },
        "604a216b5c5b4da28cad3ef6a1ffeceb": {
          "model_module": "@jupyter-widgets/base",
          "model_name": "LayoutModel",
          "model_module_version": "1.2.0",
          "state": {
            "_model_module": "@jupyter-widgets/base",
            "_model_module_version": "1.2.0",
            "_model_name": "LayoutModel",
            "_view_count": null,
            "_view_module": "@jupyter-widgets/base",
            "_view_module_version": "1.2.0",
            "_view_name": "LayoutView",
            "align_content": null,
            "align_items": null,
            "align_self": null,
            "border": null,
            "bottom": null,
            "display": null,
            "flex": null,
            "flex_flow": null,
            "grid_area": null,
            "grid_auto_columns": null,
            "grid_auto_flow": null,
            "grid_auto_rows": null,
            "grid_column": null,
            "grid_gap": null,
            "grid_row": null,
            "grid_template_areas": null,
            "grid_template_columns": null,
            "grid_template_rows": null,
            "height": null,
            "justify_content": null,
            "justify_items": null,
            "left": null,
            "margin": null,
            "max_height": null,
            "max_width": null,
            "min_height": null,
            "min_width": null,
            "object_fit": null,
            "object_position": null,
            "order": null,
            "overflow": null,
            "overflow_x": null,
            "overflow_y": null,
            "padding": null,
            "right": null,
            "top": null,
            "visibility": null,
            "width": null
          }
        },
        "7e5374a9dcdb49e58202806475d61315": {
          "model_module": "@jupyter-widgets/base",
          "model_name": "LayoutModel",
          "model_module_version": "1.2.0",
          "state": {
            "_model_module": "@jupyter-widgets/base",
            "_model_module_version": "1.2.0",
            "_model_name": "LayoutModel",
            "_view_count": null,
            "_view_module": "@jupyter-widgets/base",
            "_view_module_version": "1.2.0",
            "_view_name": "LayoutView",
            "align_content": null,
            "align_items": null,
            "align_self": null,
            "border": null,
            "bottom": null,
            "display": null,
            "flex": null,
            "flex_flow": null,
            "grid_area": null,
            "grid_auto_columns": null,
            "grid_auto_flow": null,
            "grid_auto_rows": null,
            "grid_column": null,
            "grid_gap": null,
            "grid_row": null,
            "grid_template_areas": null,
            "grid_template_columns": null,
            "grid_template_rows": null,
            "height": null,
            "justify_content": null,
            "justify_items": null,
            "left": null,
            "margin": null,
            "max_height": null,
            "max_width": null,
            "min_height": null,
            "min_width": null,
            "object_fit": null,
            "object_position": null,
            "order": null,
            "overflow": null,
            "overflow_x": null,
            "overflow_y": null,
            "padding": null,
            "right": null,
            "top": null,
            "visibility": null,
            "width": null
          }
        },
        "bf56e05ef9fc45a883b55c79f999e981": {
          "model_module": "@jupyter-widgets/controls",
          "model_name": "DescriptionStyleModel",
          "model_module_version": "1.5.0",
          "state": {
            "_model_module": "@jupyter-widgets/controls",
            "_model_module_version": "1.5.0",
            "_model_name": "DescriptionStyleModel",
            "_view_count": null,
            "_view_module": "@jupyter-widgets/base",
            "_view_module_version": "1.2.0",
            "_view_name": "StyleView",
            "description_width": ""
          }
        },
        "30515610b6d5464abf6e54b38aea071d": {
          "model_module": "@jupyter-widgets/base",
          "model_name": "LayoutModel",
          "model_module_version": "1.2.0",
          "state": {
            "_model_module": "@jupyter-widgets/base",
            "_model_module_version": "1.2.0",
            "_model_name": "LayoutModel",
            "_view_count": null,
            "_view_module": "@jupyter-widgets/base",
            "_view_module_version": "1.2.0",
            "_view_name": "LayoutView",
            "align_content": null,
            "align_items": null,
            "align_self": null,
            "border": null,
            "bottom": null,
            "display": null,
            "flex": null,
            "flex_flow": null,
            "grid_area": null,
            "grid_auto_columns": null,
            "grid_auto_flow": null,
            "grid_auto_rows": null,
            "grid_column": null,
            "grid_gap": null,
            "grid_row": null,
            "grid_template_areas": null,
            "grid_template_columns": null,
            "grid_template_rows": null,
            "height": null,
            "justify_content": null,
            "justify_items": null,
            "left": null,
            "margin": null,
            "max_height": null,
            "max_width": null,
            "min_height": null,
            "min_width": null,
            "object_fit": null,
            "object_position": null,
            "order": null,
            "overflow": null,
            "overflow_x": null,
            "overflow_y": null,
            "padding": null,
            "right": null,
            "top": null,
            "visibility": null,
            "width": null
          }
        },
        "1a5e2d1e7ec84d8cb78760dedeaf61b1": {
          "model_module": "@jupyter-widgets/controls",
          "model_name": "ProgressStyleModel",
          "model_module_version": "1.5.0",
          "state": {
            "_model_module": "@jupyter-widgets/controls",
            "_model_module_version": "1.5.0",
            "_model_name": "ProgressStyleModel",
            "_view_count": null,
            "_view_module": "@jupyter-widgets/base",
            "_view_module_version": "1.2.0",
            "_view_name": "StyleView",
            "bar_color": null,
            "description_width": ""
          }
        },
        "ba810e70f578478d846592db77a83bfc": {
          "model_module": "@jupyter-widgets/base",
          "model_name": "LayoutModel",
          "model_module_version": "1.2.0",
          "state": {
            "_model_module": "@jupyter-widgets/base",
            "_model_module_version": "1.2.0",
            "_model_name": "LayoutModel",
            "_view_count": null,
            "_view_module": "@jupyter-widgets/base",
            "_view_module_version": "1.2.0",
            "_view_name": "LayoutView",
            "align_content": null,
            "align_items": null,
            "align_self": null,
            "border": null,
            "bottom": null,
            "display": null,
            "flex": null,
            "flex_flow": null,
            "grid_area": null,
            "grid_auto_columns": null,
            "grid_auto_flow": null,
            "grid_auto_rows": null,
            "grid_column": null,
            "grid_gap": null,
            "grid_row": null,
            "grid_template_areas": null,
            "grid_template_columns": null,
            "grid_template_rows": null,
            "height": null,
            "justify_content": null,
            "justify_items": null,
            "left": null,
            "margin": null,
            "max_height": null,
            "max_width": null,
            "min_height": null,
            "min_width": null,
            "object_fit": null,
            "object_position": null,
            "order": null,
            "overflow": null,
            "overflow_x": null,
            "overflow_y": null,
            "padding": null,
            "right": null,
            "top": null,
            "visibility": null,
            "width": null
          }
        },
        "05d35a509a45440f9b441a15aa205475": {
          "model_module": "@jupyter-widgets/controls",
          "model_name": "DescriptionStyleModel",
          "model_module_version": "1.5.0",
          "state": {
            "_model_module": "@jupyter-widgets/controls",
            "_model_module_version": "1.5.0",
            "_model_name": "DescriptionStyleModel",
            "_view_count": null,
            "_view_module": "@jupyter-widgets/base",
            "_view_module_version": "1.2.0",
            "_view_name": "StyleView",
            "description_width": ""
          }
        },
        "05705d03043d4c9cbd3dffe0f61eea54": {
          "model_module": "@jupyter-widgets/controls",
          "model_name": "HBoxModel",
          "model_module_version": "1.5.0",
          "state": {
            "_dom_classes": [],
            "_model_module": "@jupyter-widgets/controls",
            "_model_module_version": "1.5.0",
            "_model_name": "HBoxModel",
            "_view_count": null,
            "_view_module": "@jupyter-widgets/controls",
            "_view_module_version": "1.5.0",
            "_view_name": "HBoxView",
            "box_style": "",
            "children": [
              "IPY_MODEL_303b9f796d0d41cd896a2c4eda4a1f4f",
              "IPY_MODEL_5b185751b306433e8994fcd83acd0b54",
              "IPY_MODEL_f6659fc00cd440f084366019732d13e4"
            ],
            "layout": "IPY_MODEL_5203a1cdf5b247d9a0948d83510bda7a"
          }
        },
        "303b9f796d0d41cd896a2c4eda4a1f4f": {
          "model_module": "@jupyter-widgets/controls",
          "model_name": "HTMLModel",
          "model_module_version": "1.5.0",
          "state": {
            "_dom_classes": [],
            "_model_module": "@jupyter-widgets/controls",
            "_model_module_version": "1.5.0",
            "_model_name": "HTMLModel",
            "_view_count": null,
            "_view_module": "@jupyter-widgets/controls",
            "_view_module_version": "1.5.0",
            "_view_name": "HTMLView",
            "description": "",
            "description_tooltip": null,
            "layout": "IPY_MODEL_e0cdd9a152e440598a5a837bf1042c44",
            "placeholder": "​",
            "style": "IPY_MODEL_782997fd000041d3916546fd60b8ac0e",
            "value": "Downloading: 100%"
          }
        },
        "5b185751b306433e8994fcd83acd0b54": {
          "model_module": "@jupyter-widgets/controls",
          "model_name": "FloatProgressModel",
          "model_module_version": "1.5.0",
          "state": {
            "_dom_classes": [],
            "_model_module": "@jupyter-widgets/controls",
            "_model_module_version": "1.5.0",
            "_model_name": "FloatProgressModel",
            "_view_count": null,
            "_view_module": "@jupyter-widgets/controls",
            "_view_module_version": "1.5.0",
            "_view_name": "ProgressView",
            "bar_style": "success",
            "description": "",
            "description_tooltip": null,
            "layout": "IPY_MODEL_c30f2e839c3c4f3299a3d675a9641b95",
            "max": 28,
            "min": 0,
            "orientation": "horizontal",
            "style": "IPY_MODEL_e3ea921fd4ee4800b3e089fa90393e1e",
            "value": 28
          }
        },
        "f6659fc00cd440f084366019732d13e4": {
          "model_module": "@jupyter-widgets/controls",
          "model_name": "HTMLModel",
          "model_module_version": "1.5.0",
          "state": {
            "_dom_classes": [],
            "_model_module": "@jupyter-widgets/controls",
            "_model_module_version": "1.5.0",
            "_model_name": "HTMLModel",
            "_view_count": null,
            "_view_module": "@jupyter-widgets/controls",
            "_view_module_version": "1.5.0",
            "_view_name": "HTMLView",
            "description": "",
            "description_tooltip": null,
            "layout": "IPY_MODEL_f12a18a9b5974e10b1739f8daa09cb58",
            "placeholder": "​",
            "style": "IPY_MODEL_aa4958d5ee1d4d77b3b72274c120980d",
            "value": " 28.0/28.0 [00:00&lt;00:00, 733B/s]"
          }
        },
        "5203a1cdf5b247d9a0948d83510bda7a": {
          "model_module": "@jupyter-widgets/base",
          "model_name": "LayoutModel",
          "model_module_version": "1.2.0",
          "state": {
            "_model_module": "@jupyter-widgets/base",
            "_model_module_version": "1.2.0",
            "_model_name": "LayoutModel",
            "_view_count": null,
            "_view_module": "@jupyter-widgets/base",
            "_view_module_version": "1.2.0",
            "_view_name": "LayoutView",
            "align_content": null,
            "align_items": null,
            "align_self": null,
            "border": null,
            "bottom": null,
            "display": null,
            "flex": null,
            "flex_flow": null,
            "grid_area": null,
            "grid_auto_columns": null,
            "grid_auto_flow": null,
            "grid_auto_rows": null,
            "grid_column": null,
            "grid_gap": null,
            "grid_row": null,
            "grid_template_areas": null,
            "grid_template_columns": null,
            "grid_template_rows": null,
            "height": null,
            "justify_content": null,
            "justify_items": null,
            "left": null,
            "margin": null,
            "max_height": null,
            "max_width": null,
            "min_height": null,
            "min_width": null,
            "object_fit": null,
            "object_position": null,
            "order": null,
            "overflow": null,
            "overflow_x": null,
            "overflow_y": null,
            "padding": null,
            "right": null,
            "top": null,
            "visibility": null,
            "width": null
          }
        },
        "e0cdd9a152e440598a5a837bf1042c44": {
          "model_module": "@jupyter-widgets/base",
          "model_name": "LayoutModel",
          "model_module_version": "1.2.0",
          "state": {
            "_model_module": "@jupyter-widgets/base",
            "_model_module_version": "1.2.0",
            "_model_name": "LayoutModel",
            "_view_count": null,
            "_view_module": "@jupyter-widgets/base",
            "_view_module_version": "1.2.0",
            "_view_name": "LayoutView",
            "align_content": null,
            "align_items": null,
            "align_self": null,
            "border": null,
            "bottom": null,
            "display": null,
            "flex": null,
            "flex_flow": null,
            "grid_area": null,
            "grid_auto_columns": null,
            "grid_auto_flow": null,
            "grid_auto_rows": null,
            "grid_column": null,
            "grid_gap": null,
            "grid_row": null,
            "grid_template_areas": null,
            "grid_template_columns": null,
            "grid_template_rows": null,
            "height": null,
            "justify_content": null,
            "justify_items": null,
            "left": null,
            "margin": null,
            "max_height": null,
            "max_width": null,
            "min_height": null,
            "min_width": null,
            "object_fit": null,
            "object_position": null,
            "order": null,
            "overflow": null,
            "overflow_x": null,
            "overflow_y": null,
            "padding": null,
            "right": null,
            "top": null,
            "visibility": null,
            "width": null
          }
        },
        "782997fd000041d3916546fd60b8ac0e": {
          "model_module": "@jupyter-widgets/controls",
          "model_name": "DescriptionStyleModel",
          "model_module_version": "1.5.0",
          "state": {
            "_model_module": "@jupyter-widgets/controls",
            "_model_module_version": "1.5.0",
            "_model_name": "DescriptionStyleModel",
            "_view_count": null,
            "_view_module": "@jupyter-widgets/base",
            "_view_module_version": "1.2.0",
            "_view_name": "StyleView",
            "description_width": ""
          }
        },
        "c30f2e839c3c4f3299a3d675a9641b95": {
          "model_module": "@jupyter-widgets/base",
          "model_name": "LayoutModel",
          "model_module_version": "1.2.0",
          "state": {
            "_model_module": "@jupyter-widgets/base",
            "_model_module_version": "1.2.0",
            "_model_name": "LayoutModel",
            "_view_count": null,
            "_view_module": "@jupyter-widgets/base",
            "_view_module_version": "1.2.0",
            "_view_name": "LayoutView",
            "align_content": null,
            "align_items": null,
            "align_self": null,
            "border": null,
            "bottom": null,
            "display": null,
            "flex": null,
            "flex_flow": null,
            "grid_area": null,
            "grid_auto_columns": null,
            "grid_auto_flow": null,
            "grid_auto_rows": null,
            "grid_column": null,
            "grid_gap": null,
            "grid_row": null,
            "grid_template_areas": null,
            "grid_template_columns": null,
            "grid_template_rows": null,
            "height": null,
            "justify_content": null,
            "justify_items": null,
            "left": null,
            "margin": null,
            "max_height": null,
            "max_width": null,
            "min_height": null,
            "min_width": null,
            "object_fit": null,
            "object_position": null,
            "order": null,
            "overflow": null,
            "overflow_x": null,
            "overflow_y": null,
            "padding": null,
            "right": null,
            "top": null,
            "visibility": null,
            "width": null
          }
        },
        "e3ea921fd4ee4800b3e089fa90393e1e": {
          "model_module": "@jupyter-widgets/controls",
          "model_name": "ProgressStyleModel",
          "model_module_version": "1.5.0",
          "state": {
            "_model_module": "@jupyter-widgets/controls",
            "_model_module_version": "1.5.0",
            "_model_name": "ProgressStyleModel",
            "_view_count": null,
            "_view_module": "@jupyter-widgets/base",
            "_view_module_version": "1.2.0",
            "_view_name": "StyleView",
            "bar_color": null,
            "description_width": ""
          }
        },
        "f12a18a9b5974e10b1739f8daa09cb58": {
          "model_module": "@jupyter-widgets/base",
          "model_name": "LayoutModel",
          "model_module_version": "1.2.0",
          "state": {
            "_model_module": "@jupyter-widgets/base",
            "_model_module_version": "1.2.0",
            "_model_name": "LayoutModel",
            "_view_count": null,
            "_view_module": "@jupyter-widgets/base",
            "_view_module_version": "1.2.0",
            "_view_name": "LayoutView",
            "align_content": null,
            "align_items": null,
            "align_self": null,
            "border": null,
            "bottom": null,
            "display": null,
            "flex": null,
            "flex_flow": null,
            "grid_area": null,
            "grid_auto_columns": null,
            "grid_auto_flow": null,
            "grid_auto_rows": null,
            "grid_column": null,
            "grid_gap": null,
            "grid_row": null,
            "grid_template_areas": null,
            "grid_template_columns": null,
            "grid_template_rows": null,
            "height": null,
            "justify_content": null,
            "justify_items": null,
            "left": null,
            "margin": null,
            "max_height": null,
            "max_width": null,
            "min_height": null,
            "min_width": null,
            "object_fit": null,
            "object_position": null,
            "order": null,
            "overflow": null,
            "overflow_x": null,
            "overflow_y": null,
            "padding": null,
            "right": null,
            "top": null,
            "visibility": null,
            "width": null
          }
        },
        "aa4958d5ee1d4d77b3b72274c120980d": {
          "model_module": "@jupyter-widgets/controls",
          "model_name": "DescriptionStyleModel",
          "model_module_version": "1.5.0",
          "state": {
            "_model_module": "@jupyter-widgets/controls",
            "_model_module_version": "1.5.0",
            "_model_name": "DescriptionStyleModel",
            "_view_count": null,
            "_view_module": "@jupyter-widgets/base",
            "_view_module_version": "1.2.0",
            "_view_name": "StyleView",
            "description_width": ""
          }
        },
        "7d23ffbcde234efcbd306e08afeeb995": {
          "model_module": "@jupyter-widgets/controls",
          "model_name": "HBoxModel",
          "model_module_version": "1.5.0",
          "state": {
            "_dom_classes": [],
            "_model_module": "@jupyter-widgets/controls",
            "_model_module_version": "1.5.0",
            "_model_name": "HBoxModel",
            "_view_count": null,
            "_view_module": "@jupyter-widgets/controls",
            "_view_module_version": "1.5.0",
            "_view_name": "HBoxView",
            "box_style": "",
            "children": [
              "IPY_MODEL_41105e34d1294375b9ca52c5041f1710",
              "IPY_MODEL_ec36acabc6d64733afaa1eaf83ac69d5",
              "IPY_MODEL_b916bc4dc49c4789b6a0601d4ed2e8f7"
            ],
            "layout": "IPY_MODEL_73cb85051a4d407ca3e100b14daa8c76"
          }
        },
        "41105e34d1294375b9ca52c5041f1710": {
          "model_module": "@jupyter-widgets/controls",
          "model_name": "HTMLModel",
          "model_module_version": "1.5.0",
          "state": {
            "_dom_classes": [],
            "_model_module": "@jupyter-widgets/controls",
            "_model_module_version": "1.5.0",
            "_model_name": "HTMLModel",
            "_view_count": null,
            "_view_module": "@jupyter-widgets/controls",
            "_view_module_version": "1.5.0",
            "_view_name": "HTMLView",
            "description": "",
            "description_tooltip": null,
            "layout": "IPY_MODEL_c5712d734c8c4739948fe007e6caecea",
            "placeholder": "​",
            "style": "IPY_MODEL_2c8fb55c562d417b91921fa0c8b380fa",
            "value": "Downloading: 100%"
          }
        },
        "ec36acabc6d64733afaa1eaf83ac69d5": {
          "model_module": "@jupyter-widgets/controls",
          "model_name": "FloatProgressModel",
          "model_module_version": "1.5.0",
          "state": {
            "_dom_classes": [],
            "_model_module": "@jupyter-widgets/controls",
            "_model_module_version": "1.5.0",
            "_model_name": "FloatProgressModel",
            "_view_count": null,
            "_view_module": "@jupyter-widgets/controls",
            "_view_module_version": "1.5.0",
            "_view_name": "ProgressView",
            "bar_style": "success",
            "description": "",
            "description_tooltip": null,
            "layout": "IPY_MODEL_a0c638444aee48b6892c26866ff0e5db",
            "max": 483,
            "min": 0,
            "orientation": "horizontal",
            "style": "IPY_MODEL_77648ad0383443268bf8a3699209a130",
            "value": 483
          }
        },
        "b916bc4dc49c4789b6a0601d4ed2e8f7": {
          "model_module": "@jupyter-widgets/controls",
          "model_name": "HTMLModel",
          "model_module_version": "1.5.0",
          "state": {
            "_dom_classes": [],
            "_model_module": "@jupyter-widgets/controls",
            "_model_module_version": "1.5.0",
            "_model_name": "HTMLModel",
            "_view_count": null,
            "_view_module": "@jupyter-widgets/controls",
            "_view_module_version": "1.5.0",
            "_view_name": "HTMLView",
            "description": "",
            "description_tooltip": null,
            "layout": "IPY_MODEL_0e9c38eddd094a65bb5bf3a03ece5393",
            "placeholder": "​",
            "style": "IPY_MODEL_2c853be49a0b416092bf509452bf7eb5",
            "value": " 483/483 [00:00&lt;00:00, 13.2kB/s]"
          }
        },
        "73cb85051a4d407ca3e100b14daa8c76": {
          "model_module": "@jupyter-widgets/base",
          "model_name": "LayoutModel",
          "model_module_version": "1.2.0",
          "state": {
            "_model_module": "@jupyter-widgets/base",
            "_model_module_version": "1.2.0",
            "_model_name": "LayoutModel",
            "_view_count": null,
            "_view_module": "@jupyter-widgets/base",
            "_view_module_version": "1.2.0",
            "_view_name": "LayoutView",
            "align_content": null,
            "align_items": null,
            "align_self": null,
            "border": null,
            "bottom": null,
            "display": null,
            "flex": null,
            "flex_flow": null,
            "grid_area": null,
            "grid_auto_columns": null,
            "grid_auto_flow": null,
            "grid_auto_rows": null,
            "grid_column": null,
            "grid_gap": null,
            "grid_row": null,
            "grid_template_areas": null,
            "grid_template_columns": null,
            "grid_template_rows": null,
            "height": null,
            "justify_content": null,
            "justify_items": null,
            "left": null,
            "margin": null,
            "max_height": null,
            "max_width": null,
            "min_height": null,
            "min_width": null,
            "object_fit": null,
            "object_position": null,
            "order": null,
            "overflow": null,
            "overflow_x": null,
            "overflow_y": null,
            "padding": null,
            "right": null,
            "top": null,
            "visibility": null,
            "width": null
          }
        },
        "c5712d734c8c4739948fe007e6caecea": {
          "model_module": "@jupyter-widgets/base",
          "model_name": "LayoutModel",
          "model_module_version": "1.2.0",
          "state": {
            "_model_module": "@jupyter-widgets/base",
            "_model_module_version": "1.2.0",
            "_model_name": "LayoutModel",
            "_view_count": null,
            "_view_module": "@jupyter-widgets/base",
            "_view_module_version": "1.2.0",
            "_view_name": "LayoutView",
            "align_content": null,
            "align_items": null,
            "align_self": null,
            "border": null,
            "bottom": null,
            "display": null,
            "flex": null,
            "flex_flow": null,
            "grid_area": null,
            "grid_auto_columns": null,
            "grid_auto_flow": null,
            "grid_auto_rows": null,
            "grid_column": null,
            "grid_gap": null,
            "grid_row": null,
            "grid_template_areas": null,
            "grid_template_columns": null,
            "grid_template_rows": null,
            "height": null,
            "justify_content": null,
            "justify_items": null,
            "left": null,
            "margin": null,
            "max_height": null,
            "max_width": null,
            "min_height": null,
            "min_width": null,
            "object_fit": null,
            "object_position": null,
            "order": null,
            "overflow": null,
            "overflow_x": null,
            "overflow_y": null,
            "padding": null,
            "right": null,
            "top": null,
            "visibility": null,
            "width": null
          }
        },
        "2c8fb55c562d417b91921fa0c8b380fa": {
          "model_module": "@jupyter-widgets/controls",
          "model_name": "DescriptionStyleModel",
          "model_module_version": "1.5.0",
          "state": {
            "_model_module": "@jupyter-widgets/controls",
            "_model_module_version": "1.5.0",
            "_model_name": "DescriptionStyleModel",
            "_view_count": null,
            "_view_module": "@jupyter-widgets/base",
            "_view_module_version": "1.2.0",
            "_view_name": "StyleView",
            "description_width": ""
          }
        },
        "a0c638444aee48b6892c26866ff0e5db": {
          "model_module": "@jupyter-widgets/base",
          "model_name": "LayoutModel",
          "model_module_version": "1.2.0",
          "state": {
            "_model_module": "@jupyter-widgets/base",
            "_model_module_version": "1.2.0",
            "_model_name": "LayoutModel",
            "_view_count": null,
            "_view_module": "@jupyter-widgets/base",
            "_view_module_version": "1.2.0",
            "_view_name": "LayoutView",
            "align_content": null,
            "align_items": null,
            "align_self": null,
            "border": null,
            "bottom": null,
            "display": null,
            "flex": null,
            "flex_flow": null,
            "grid_area": null,
            "grid_auto_columns": null,
            "grid_auto_flow": null,
            "grid_auto_rows": null,
            "grid_column": null,
            "grid_gap": null,
            "grid_row": null,
            "grid_template_areas": null,
            "grid_template_columns": null,
            "grid_template_rows": null,
            "height": null,
            "justify_content": null,
            "justify_items": null,
            "left": null,
            "margin": null,
            "max_height": null,
            "max_width": null,
            "min_height": null,
            "min_width": null,
            "object_fit": null,
            "object_position": null,
            "order": null,
            "overflow": null,
            "overflow_x": null,
            "overflow_y": null,
            "padding": null,
            "right": null,
            "top": null,
            "visibility": null,
            "width": null
          }
        },
        "77648ad0383443268bf8a3699209a130": {
          "model_module": "@jupyter-widgets/controls",
          "model_name": "ProgressStyleModel",
          "model_module_version": "1.5.0",
          "state": {
            "_model_module": "@jupyter-widgets/controls",
            "_model_module_version": "1.5.0",
            "_model_name": "ProgressStyleModel",
            "_view_count": null,
            "_view_module": "@jupyter-widgets/base",
            "_view_module_version": "1.2.0",
            "_view_name": "StyleView",
            "bar_color": null,
            "description_width": ""
          }
        },
        "0e9c38eddd094a65bb5bf3a03ece5393": {
          "model_module": "@jupyter-widgets/base",
          "model_name": "LayoutModel",
          "model_module_version": "1.2.0",
          "state": {
            "_model_module": "@jupyter-widgets/base",
            "_model_module_version": "1.2.0",
            "_model_name": "LayoutModel",
            "_view_count": null,
            "_view_module": "@jupyter-widgets/base",
            "_view_module_version": "1.2.0",
            "_view_name": "LayoutView",
            "align_content": null,
            "align_items": null,
            "align_self": null,
            "border": null,
            "bottom": null,
            "display": null,
            "flex": null,
            "flex_flow": null,
            "grid_area": null,
            "grid_auto_columns": null,
            "grid_auto_flow": null,
            "grid_auto_rows": null,
            "grid_column": null,
            "grid_gap": null,
            "grid_row": null,
            "grid_template_areas": null,
            "grid_template_columns": null,
            "grid_template_rows": null,
            "height": null,
            "justify_content": null,
            "justify_items": null,
            "left": null,
            "margin": null,
            "max_height": null,
            "max_width": null,
            "min_height": null,
            "min_width": null,
            "object_fit": null,
            "object_position": null,
            "order": null,
            "overflow": null,
            "overflow_x": null,
            "overflow_y": null,
            "padding": null,
            "right": null,
            "top": null,
            "visibility": null,
            "width": null
          }
        },
        "2c853be49a0b416092bf509452bf7eb5": {
          "model_module": "@jupyter-widgets/controls",
          "model_name": "DescriptionStyleModel",
          "model_module_version": "1.5.0",
          "state": {
            "_model_module": "@jupyter-widgets/controls",
            "_model_module_version": "1.5.0",
            "_model_name": "DescriptionStyleModel",
            "_view_count": null,
            "_view_module": "@jupyter-widgets/base",
            "_view_module_version": "1.2.0",
            "_view_name": "StyleView",
            "description_width": ""
          }
        },
        "f63150860e564999a48777ff9bed447d": {
          "model_module": "@jupyter-widgets/controls",
          "model_name": "HBoxModel",
          "model_module_version": "1.5.0",
          "state": {
            "_dom_classes": [],
            "_model_module": "@jupyter-widgets/controls",
            "_model_module_version": "1.5.0",
            "_model_name": "HBoxModel",
            "_view_count": null,
            "_view_module": "@jupyter-widgets/controls",
            "_view_module_version": "1.5.0",
            "_view_name": "HBoxView",
            "box_style": "",
            "children": [
              "IPY_MODEL_c31a390f72254b6e9fd43c3ec216d7ec",
              "IPY_MODEL_31551987a87f40e2ae3e5b140b2a0334",
              "IPY_MODEL_25250cd8f3014488ac95521f810d25be"
            ],
            "layout": "IPY_MODEL_ef80300a96a545f9bc98faeb62d79756"
          }
        },
        "c31a390f72254b6e9fd43c3ec216d7ec": {
          "model_module": "@jupyter-widgets/controls",
          "model_name": "HTMLModel",
          "model_module_version": "1.5.0",
          "state": {
            "_dom_classes": [],
            "_model_module": "@jupyter-widgets/controls",
            "_model_module_version": "1.5.0",
            "_model_name": "HTMLModel",
            "_view_count": null,
            "_view_module": "@jupyter-widgets/controls",
            "_view_module_version": "1.5.0",
            "_view_name": "HTMLView",
            "description": "",
            "description_tooltip": null,
            "layout": "IPY_MODEL_127a2b45f8b34405ba86b255d7db27d9",
            "placeholder": "​",
            "style": "IPY_MODEL_323e9ef260a642b1be56e5b7d0bc45fe",
            "value": "Downloading: 100%"
          }
        },
        "31551987a87f40e2ae3e5b140b2a0334": {
          "model_module": "@jupyter-widgets/controls",
          "model_name": "FloatProgressModel",
          "model_module_version": "1.5.0",
          "state": {
            "_dom_classes": [],
            "_model_module": "@jupyter-widgets/controls",
            "_model_module_version": "1.5.0",
            "_model_name": "FloatProgressModel",
            "_view_count": null,
            "_view_module": "@jupyter-widgets/controls",
            "_view_module_version": "1.5.0",
            "_view_name": "ProgressView",
            "bar_style": "success",
            "description": "",
            "description_tooltip": null,
            "layout": "IPY_MODEL_1cb343d52d4e42089abe95c440ceed18",
            "max": 267967963,
            "min": 0,
            "orientation": "horizontal",
            "style": "IPY_MODEL_7d9f92db37b24de2bec2429861674b47",
            "value": 267967963
          }
        },
        "25250cd8f3014488ac95521f810d25be": {
          "model_module": "@jupyter-widgets/controls",
          "model_name": "HTMLModel",
          "model_module_version": "1.5.0",
          "state": {
            "_dom_classes": [],
            "_model_module": "@jupyter-widgets/controls",
            "_model_module_version": "1.5.0",
            "_model_name": "HTMLModel",
            "_view_count": null,
            "_view_module": "@jupyter-widgets/controls",
            "_view_module_version": "1.5.0",
            "_view_name": "HTMLView",
            "description": "",
            "description_tooltip": null,
            "layout": "IPY_MODEL_b148315b9cc8468e82bd212c90d1f5d7",
            "placeholder": "​",
            "style": "IPY_MODEL_d9e1382a6fae4acba33c2dffabd565fa",
            "value": " 256M/256M [00:12&lt;00:00, 17.2MB/s]"
          }
        },
        "ef80300a96a545f9bc98faeb62d79756": {
          "model_module": "@jupyter-widgets/base",
          "model_name": "LayoutModel",
          "model_module_version": "1.2.0",
          "state": {
            "_model_module": "@jupyter-widgets/base",
            "_model_module_version": "1.2.0",
            "_model_name": "LayoutModel",
            "_view_count": null,
            "_view_module": "@jupyter-widgets/base",
            "_view_module_version": "1.2.0",
            "_view_name": "LayoutView",
            "align_content": null,
            "align_items": null,
            "align_self": null,
            "border": null,
            "bottom": null,
            "display": null,
            "flex": null,
            "flex_flow": null,
            "grid_area": null,
            "grid_auto_columns": null,
            "grid_auto_flow": null,
            "grid_auto_rows": null,
            "grid_column": null,
            "grid_gap": null,
            "grid_row": null,
            "grid_template_areas": null,
            "grid_template_columns": null,
            "grid_template_rows": null,
            "height": null,
            "justify_content": null,
            "justify_items": null,
            "left": null,
            "margin": null,
            "max_height": null,
            "max_width": null,
            "min_height": null,
            "min_width": null,
            "object_fit": null,
            "object_position": null,
            "order": null,
            "overflow": null,
            "overflow_x": null,
            "overflow_y": null,
            "padding": null,
            "right": null,
            "top": null,
            "visibility": null,
            "width": null
          }
        },
        "127a2b45f8b34405ba86b255d7db27d9": {
          "model_module": "@jupyter-widgets/base",
          "model_name": "LayoutModel",
          "model_module_version": "1.2.0",
          "state": {
            "_model_module": "@jupyter-widgets/base",
            "_model_module_version": "1.2.0",
            "_model_name": "LayoutModel",
            "_view_count": null,
            "_view_module": "@jupyter-widgets/base",
            "_view_module_version": "1.2.0",
            "_view_name": "LayoutView",
            "align_content": null,
            "align_items": null,
            "align_self": null,
            "border": null,
            "bottom": null,
            "display": null,
            "flex": null,
            "flex_flow": null,
            "grid_area": null,
            "grid_auto_columns": null,
            "grid_auto_flow": null,
            "grid_auto_rows": null,
            "grid_column": null,
            "grid_gap": null,
            "grid_row": null,
            "grid_template_areas": null,
            "grid_template_columns": null,
            "grid_template_rows": null,
            "height": null,
            "justify_content": null,
            "justify_items": null,
            "left": null,
            "margin": null,
            "max_height": null,
            "max_width": null,
            "min_height": null,
            "min_width": null,
            "object_fit": null,
            "object_position": null,
            "order": null,
            "overflow": null,
            "overflow_x": null,
            "overflow_y": null,
            "padding": null,
            "right": null,
            "top": null,
            "visibility": null,
            "width": null
          }
        },
        "323e9ef260a642b1be56e5b7d0bc45fe": {
          "model_module": "@jupyter-widgets/controls",
          "model_name": "DescriptionStyleModel",
          "model_module_version": "1.5.0",
          "state": {
            "_model_module": "@jupyter-widgets/controls",
            "_model_module_version": "1.5.0",
            "_model_name": "DescriptionStyleModel",
            "_view_count": null,
            "_view_module": "@jupyter-widgets/base",
            "_view_module_version": "1.2.0",
            "_view_name": "StyleView",
            "description_width": ""
          }
        },
        "1cb343d52d4e42089abe95c440ceed18": {
          "model_module": "@jupyter-widgets/base",
          "model_name": "LayoutModel",
          "model_module_version": "1.2.0",
          "state": {
            "_model_module": "@jupyter-widgets/base",
            "_model_module_version": "1.2.0",
            "_model_name": "LayoutModel",
            "_view_count": null,
            "_view_module": "@jupyter-widgets/base",
            "_view_module_version": "1.2.0",
            "_view_name": "LayoutView",
            "align_content": null,
            "align_items": null,
            "align_self": null,
            "border": null,
            "bottom": null,
            "display": null,
            "flex": null,
            "flex_flow": null,
            "grid_area": null,
            "grid_auto_columns": null,
            "grid_auto_flow": null,
            "grid_auto_rows": null,
            "grid_column": null,
            "grid_gap": null,
            "grid_row": null,
            "grid_template_areas": null,
            "grid_template_columns": null,
            "grid_template_rows": null,
            "height": null,
            "justify_content": null,
            "justify_items": null,
            "left": null,
            "margin": null,
            "max_height": null,
            "max_width": null,
            "min_height": null,
            "min_width": null,
            "object_fit": null,
            "object_position": null,
            "order": null,
            "overflow": null,
            "overflow_x": null,
            "overflow_y": null,
            "padding": null,
            "right": null,
            "top": null,
            "visibility": null,
            "width": null
          }
        },
        "7d9f92db37b24de2bec2429861674b47": {
          "model_module": "@jupyter-widgets/controls",
          "model_name": "ProgressStyleModel",
          "model_module_version": "1.5.0",
          "state": {
            "_model_module": "@jupyter-widgets/controls",
            "_model_module_version": "1.5.0",
            "_model_name": "ProgressStyleModel",
            "_view_count": null,
            "_view_module": "@jupyter-widgets/base",
            "_view_module_version": "1.2.0",
            "_view_name": "StyleView",
            "bar_color": null,
            "description_width": ""
          }
        },
        "b148315b9cc8468e82bd212c90d1f5d7": {
          "model_module": "@jupyter-widgets/base",
          "model_name": "LayoutModel",
          "model_module_version": "1.2.0",
          "state": {
            "_model_module": "@jupyter-widgets/base",
            "_model_module_version": "1.2.0",
            "_model_name": "LayoutModel",
            "_view_count": null,
            "_view_module": "@jupyter-widgets/base",
            "_view_module_version": "1.2.0",
            "_view_name": "LayoutView",
            "align_content": null,
            "align_items": null,
            "align_self": null,
            "border": null,
            "bottom": null,
            "display": null,
            "flex": null,
            "flex_flow": null,
            "grid_area": null,
            "grid_auto_columns": null,
            "grid_auto_flow": null,
            "grid_auto_rows": null,
            "grid_column": null,
            "grid_gap": null,
            "grid_row": null,
            "grid_template_areas": null,
            "grid_template_columns": null,
            "grid_template_rows": null,
            "height": null,
            "justify_content": null,
            "justify_items": null,
            "left": null,
            "margin": null,
            "max_height": null,
            "max_width": null,
            "min_height": null,
            "min_width": null,
            "object_fit": null,
            "object_position": null,
            "order": null,
            "overflow": null,
            "overflow_x": null,
            "overflow_y": null,
            "padding": null,
            "right": null,
            "top": null,
            "visibility": null,
            "width": null
          }
        },
        "d9e1382a6fae4acba33c2dffabd565fa": {
          "model_module": "@jupyter-widgets/controls",
          "model_name": "DescriptionStyleModel",
          "model_module_version": "1.5.0",
          "state": {
            "_model_module": "@jupyter-widgets/controls",
            "_model_module_version": "1.5.0",
            "_model_name": "DescriptionStyleModel",
            "_view_count": null,
            "_view_module": "@jupyter-widgets/base",
            "_view_module_version": "1.2.0",
            "_view_name": "StyleView",
            "description_width": ""
          }
        }
      }
    }
  },
  "cells": [
    {
      "cell_type": "code",
      "source": [
        "import warnings\n",
        "warnings.filterwarnings(\"ignore\")"
      ],
      "metadata": {
        "id": "mdEYvJbCEKpL"
      },
      "execution_count": 7,
      "outputs": []
    },
    {
      "cell_type": "code",
      "source": [
        "!pip install emoji --upgrade"
      ],
      "metadata": {
        "id": "yAUT2VqWu2Qc"
      },
      "execution_count": null,
      "outputs": []
    },
    {
      "cell_type": "code",
      "execution_count": 9,
      "metadata": {
        "id": "jHBh6e6MT0dZ"
      },
      "outputs": [],
      "source": [
        "import pandas as pd\n",
        "import numpy as np"
      ]
    },
    {
      "cell_type": "code",
      "source": [
        "# Importing Dataset\n",
        "url = 'https://raw.githubusercontent.com/AnjaniSriya/RecommendationSystem/master/disney_plus_shows.csv'\n",
        "shows = pd.read_csv(url)"
      ],
      "metadata": {
        "id": "LiCJlPO7T63z"
      },
      "execution_count": 10,
      "outputs": []
    },
    {
      "cell_type": "code",
      "source": [
        "shows.info()"
      ],
      "metadata": {
        "id": "lRLFHzz-T-lT",
        "colab": {
          "base_uri": "https://localhost:8080/"
        },
        "outputId": "def4757c-4d92-4442-bade-413ef604a086"
      },
      "execution_count": 11,
      "outputs": [
        {
          "output_type": "stream",
          "name": "stdout",
          "text": [
            "<class 'pandas.core.frame.DataFrame'>\n",
            "RangeIndex: 992 entries, 0 to 991\n",
            "Data columns (total 19 columns):\n",
            " #   Column       Non-Null Count  Dtype  \n",
            "---  ------       --------------  -----  \n",
            " 0   imdb_id      894 non-null    object \n",
            " 1   title        894 non-null    object \n",
            " 2   plot         866 non-null    object \n",
            " 3   type         894 non-null    object \n",
            " 4   rated        742 non-null    object \n",
            " 5   year         894 non-null    object \n",
            " 6   released_at  874 non-null    object \n",
            " 7   added_at     992 non-null    object \n",
            " 8   runtime      838 non-null    object \n",
            " 9   genre        885 non-null    object \n",
            " 10  director     689 non-null    object \n",
            " 11  writer       743 non-null    object \n",
            " 12  actors       870 non-null    object \n",
            " 13  language     865 non-null    object \n",
            " 14  country      869 non-null    object \n",
            " 15  awards       556 non-null    object \n",
            " 16  metascore    292 non-null    float64\n",
            " 17  imdb_rating  879 non-null    float64\n",
            " 18  imdb_votes   879 non-null    object \n",
            "dtypes: float64(2), object(17)\n",
            "memory usage: 147.4+ KB\n"
          ]
        }
      ]
    },
    {
      "cell_type": "code",
      "source": [
        "#Obtaining the necessary columns from the entire dataset\n",
        "shows = shows[['imdb_id','title','type','plot','genre','director','actors','language','imdb_rating','imdb_votes']]\n",
        "shows.head(5)"
      ],
      "metadata": {
        "id": "aeVnHUDsUCSi",
        "colab": {
          "base_uri": "https://localhost:8080/",
          "height": 424
        },
        "outputId": "ce720a03-0ff5-4abd-9815-7ec3159c406a"
      },
      "execution_count": 12,
      "outputs": [
        {
          "output_type": "execute_result",
          "data": {
            "text/plain": [
              "     imdb_id                                       title    type  \\\n",
              "0  tt0147800                  10 Things I Hate About You   movie   \n",
              "1  tt7019028                        101 Dalmatian Street  series   \n",
              "2  tt0115433                              101 Dalmatians   movie   \n",
              "3  tt0324941  101 Dalmatians 2: Patch's London Adventure   movie   \n",
              "4  tt0211181                              102 Dalmatians   movie   \n",
              "\n",
              "                                                plot  \\\n",
              "0  A pretty, popular teenager can't go out on a d...   \n",
              "1  This series follows the lives of Delilah and D...   \n",
              "2  An evil high-fashion designer plots to steal D...   \n",
              "3  Being one of 101 takes its toll on Patch, who ...   \n",
              "4  Cruella DeVil gets out of prison and goes afte...   \n",
              "\n",
              "                                           genre                   director  \\\n",
              "0                         Comedy, Drama, Romance                 Gil Junger   \n",
              "1                      Animation, Comedy, Family                        NaN   \n",
              "2               Adventure, Comedy, Crime, Family              Stephen Herek   \n",
              "3  Animation, Adventure, Comedy, Family, Musical  Jim Kammerud, Brian Smith   \n",
              "4                      Adventure, Comedy, Family                 Kevin Lima   \n",
              "\n",
              "                                              actors          language  \\\n",
              "0  Heath Ledger, Julia Stiles, Joseph Gordon-Levi...   English, French   \n",
              "1  Josh Brener, Michaela Dietz, Bert Davis, Abiga...           English   \n",
              "2  Glenn Close, Jeff Daniels, Joely Richardson, J...  English, Spanish   \n",
              "3  Barry Bostwick, Jason Alexander, Martin Short,...           English   \n",
              "4  Glenn Close, Gérard Depardieu, Ioan Gruffudd, ...           English   \n",
              "\n",
              "   imdb_rating imdb_votes  \n",
              "0          7.3    283,945  \n",
              "1          6.2        124  \n",
              "2          5.7     97,785  \n",
              "3          5.8      7,434  \n",
              "4          4.9     33,444  "
            ],
            "text/html": [
              "\n",
              "  <div id=\"df-04f19c3c-aecb-4535-9c22-84d76453b047\">\n",
              "    <div class=\"colab-df-container\">\n",
              "      <div>\n",
              "<style scoped>\n",
              "    .dataframe tbody tr th:only-of-type {\n",
              "        vertical-align: middle;\n",
              "    }\n",
              "\n",
              "    .dataframe tbody tr th {\n",
              "        vertical-align: top;\n",
              "    }\n",
              "\n",
              "    .dataframe thead th {\n",
              "        text-align: right;\n",
              "    }\n",
              "</style>\n",
              "<table border=\"1\" class=\"dataframe\">\n",
              "  <thead>\n",
              "    <tr style=\"text-align: right;\">\n",
              "      <th></th>\n",
              "      <th>imdb_id</th>\n",
              "      <th>title</th>\n",
              "      <th>type</th>\n",
              "      <th>plot</th>\n",
              "      <th>genre</th>\n",
              "      <th>director</th>\n",
              "      <th>actors</th>\n",
              "      <th>language</th>\n",
              "      <th>imdb_rating</th>\n",
              "      <th>imdb_votes</th>\n",
              "    </tr>\n",
              "  </thead>\n",
              "  <tbody>\n",
              "    <tr>\n",
              "      <th>0</th>\n",
              "      <td>tt0147800</td>\n",
              "      <td>10 Things I Hate About You</td>\n",
              "      <td>movie</td>\n",
              "      <td>A pretty, popular teenager can't go out on a d...</td>\n",
              "      <td>Comedy, Drama, Romance</td>\n",
              "      <td>Gil Junger</td>\n",
              "      <td>Heath Ledger, Julia Stiles, Joseph Gordon-Levi...</td>\n",
              "      <td>English, French</td>\n",
              "      <td>7.3</td>\n",
              "      <td>283,945</td>\n",
              "    </tr>\n",
              "    <tr>\n",
              "      <th>1</th>\n",
              "      <td>tt7019028</td>\n",
              "      <td>101 Dalmatian Street</td>\n",
              "      <td>series</td>\n",
              "      <td>This series follows the lives of Delilah and D...</td>\n",
              "      <td>Animation, Comedy, Family</td>\n",
              "      <td>NaN</td>\n",
              "      <td>Josh Brener, Michaela Dietz, Bert Davis, Abiga...</td>\n",
              "      <td>English</td>\n",
              "      <td>6.2</td>\n",
              "      <td>124</td>\n",
              "    </tr>\n",
              "    <tr>\n",
              "      <th>2</th>\n",
              "      <td>tt0115433</td>\n",
              "      <td>101 Dalmatians</td>\n",
              "      <td>movie</td>\n",
              "      <td>An evil high-fashion designer plots to steal D...</td>\n",
              "      <td>Adventure, Comedy, Crime, Family</td>\n",
              "      <td>Stephen Herek</td>\n",
              "      <td>Glenn Close, Jeff Daniels, Joely Richardson, J...</td>\n",
              "      <td>English, Spanish</td>\n",
              "      <td>5.7</td>\n",
              "      <td>97,785</td>\n",
              "    </tr>\n",
              "    <tr>\n",
              "      <th>3</th>\n",
              "      <td>tt0324941</td>\n",
              "      <td>101 Dalmatians 2: Patch's London Adventure</td>\n",
              "      <td>movie</td>\n",
              "      <td>Being one of 101 takes its toll on Patch, who ...</td>\n",
              "      <td>Animation, Adventure, Comedy, Family, Musical</td>\n",
              "      <td>Jim Kammerud, Brian Smith</td>\n",
              "      <td>Barry Bostwick, Jason Alexander, Martin Short,...</td>\n",
              "      <td>English</td>\n",
              "      <td>5.8</td>\n",
              "      <td>7,434</td>\n",
              "    </tr>\n",
              "    <tr>\n",
              "      <th>4</th>\n",
              "      <td>tt0211181</td>\n",
              "      <td>102 Dalmatians</td>\n",
              "      <td>movie</td>\n",
              "      <td>Cruella DeVil gets out of prison and goes afte...</td>\n",
              "      <td>Adventure, Comedy, Family</td>\n",
              "      <td>Kevin Lima</td>\n",
              "      <td>Glenn Close, Gérard Depardieu, Ioan Gruffudd, ...</td>\n",
              "      <td>English</td>\n",
              "      <td>4.9</td>\n",
              "      <td>33,444</td>\n",
              "    </tr>\n",
              "  </tbody>\n",
              "</table>\n",
              "</div>\n",
              "      <button class=\"colab-df-convert\" onclick=\"convertToInteractive('df-04f19c3c-aecb-4535-9c22-84d76453b047')\"\n",
              "              title=\"Convert this dataframe to an interactive table.\"\n",
              "              style=\"display:none;\">\n",
              "        \n",
              "  <svg xmlns=\"http://www.w3.org/2000/svg\" height=\"24px\"viewBox=\"0 0 24 24\"\n",
              "       width=\"24px\">\n",
              "    <path d=\"M0 0h24v24H0V0z\" fill=\"none\"/>\n",
              "    <path d=\"M18.56 5.44l.94 2.06.94-2.06 2.06-.94-2.06-.94-.94-2.06-.94 2.06-2.06.94zm-11 1L8.5 8.5l.94-2.06 2.06-.94-2.06-.94L8.5 2.5l-.94 2.06-2.06.94zm10 10l.94 2.06.94-2.06 2.06-.94-2.06-.94-.94-2.06-.94 2.06-2.06.94z\"/><path d=\"M17.41 7.96l-1.37-1.37c-.4-.4-.92-.59-1.43-.59-.52 0-1.04.2-1.43.59L10.3 9.45l-7.72 7.72c-.78.78-.78 2.05 0 2.83L4 21.41c.39.39.9.59 1.41.59.51 0 1.02-.2 1.41-.59l7.78-7.78 2.81-2.81c.8-.78.8-2.07 0-2.86zM5.41 20L4 18.59l7.72-7.72 1.47 1.35L5.41 20z\"/>\n",
              "  </svg>\n",
              "      </button>\n",
              "      \n",
              "  <style>\n",
              "    .colab-df-container {\n",
              "      display:flex;\n",
              "      flex-wrap:wrap;\n",
              "      gap: 12px;\n",
              "    }\n",
              "\n",
              "    .colab-df-convert {\n",
              "      background-color: #E8F0FE;\n",
              "      border: none;\n",
              "      border-radius: 50%;\n",
              "      cursor: pointer;\n",
              "      display: none;\n",
              "      fill: #1967D2;\n",
              "      height: 32px;\n",
              "      padding: 0 0 0 0;\n",
              "      width: 32px;\n",
              "    }\n",
              "\n",
              "    .colab-df-convert:hover {\n",
              "      background-color: #E2EBFA;\n",
              "      box-shadow: 0px 1px 2px rgba(60, 64, 67, 0.3), 0px 1px 3px 1px rgba(60, 64, 67, 0.15);\n",
              "      fill: #174EA6;\n",
              "    }\n",
              "\n",
              "    [theme=dark] .colab-df-convert {\n",
              "      background-color: #3B4455;\n",
              "      fill: #D2E3FC;\n",
              "    }\n",
              "\n",
              "    [theme=dark] .colab-df-convert:hover {\n",
              "      background-color: #434B5C;\n",
              "      box-shadow: 0px 1px 3px 1px rgba(0, 0, 0, 0.15);\n",
              "      filter: drop-shadow(0px 1px 2px rgba(0, 0, 0, 0.3));\n",
              "      fill: #FFFFFF;\n",
              "    }\n",
              "  </style>\n",
              "\n",
              "      <script>\n",
              "        const buttonEl =\n",
              "          document.querySelector('#df-04f19c3c-aecb-4535-9c22-84d76453b047 button.colab-df-convert');\n",
              "        buttonEl.style.display =\n",
              "          google.colab.kernel.accessAllowed ? 'block' : 'none';\n",
              "\n",
              "        async function convertToInteractive(key) {\n",
              "          const element = document.querySelector('#df-04f19c3c-aecb-4535-9c22-84d76453b047');\n",
              "          const dataTable =\n",
              "            await google.colab.kernel.invokeFunction('convertToInteractive',\n",
              "                                                     [key], {});\n",
              "          if (!dataTable) return;\n",
              "\n",
              "          const docLinkHtml = 'Like what you see? Visit the ' +\n",
              "            '<a target=\"_blank\" href=https://colab.research.google.com/notebooks/data_table.ipynb>data table notebook</a>'\n",
              "            + ' to learn more about interactive tables.';\n",
              "          element.innerHTML = '';\n",
              "          dataTable['output_type'] = 'display_data';\n",
              "          await google.colab.output.renderOutput(dataTable, element);\n",
              "          const docLink = document.createElement('div');\n",
              "          docLink.innerHTML = docLinkHtml;\n",
              "          element.appendChild(docLink);\n",
              "        }\n",
              "      </script>\n",
              "    </div>\n",
              "  </div>\n",
              "  "
            ]
          },
          "metadata": {},
          "execution_count": 12
        }
      ]
    },
    {
      "cell_type": "code",
      "source": [
        "shows.isnull().sum()\n",
        "#The number of missing values in the data set is returned by the function dataset.isnull().sum()"
      ],
      "metadata": {
        "id": "_isxudEaUDxw",
        "colab": {
          "base_uri": "https://localhost:8080/"
        },
        "outputId": "8591f203-dcb8-4839-8a7a-a8255e5960c0"
      },
      "execution_count": 13,
      "outputs": [
        {
          "output_type": "execute_result",
          "data": {
            "text/plain": [
              "imdb_id         98\n",
              "title           98\n",
              "type            98\n",
              "plot           126\n",
              "genre          107\n",
              "director       303\n",
              "actors         122\n",
              "language       127\n",
              "imdb_rating    113\n",
              "imdb_votes     113\n",
              "dtype: int64"
            ]
          },
          "metadata": {},
          "execution_count": 13
        }
      ]
    },
    {
      "cell_type": "code",
      "source": [
        "shows.dropna(inplace=True)\n",
        "shows.isnull().sum()\n",
        "#The dropna() method deletes rows with NULL values."
      ],
      "metadata": {
        "id": "M9PqO8vNUG9f",
        "colab": {
          "base_uri": "https://localhost:8080/"
        },
        "outputId": "8dfe7b7f-8f45-4bfd-bc5d-5182e94295ca"
      },
      "execution_count": 14,
      "outputs": [
        {
          "output_type": "execute_result",
          "data": {
            "text/plain": [
              "imdb_id        0\n",
              "title          0\n",
              "type           0\n",
              "plot           0\n",
              "genre          0\n",
              "director       0\n",
              "actors         0\n",
              "language       0\n",
              "imdb_rating    0\n",
              "imdb_votes     0\n",
              "dtype: int64"
            ]
          },
          "metadata": {},
          "execution_count": 14
        }
      ]
    },
    {
      "cell_type": "code",
      "source": [
        "shows.duplicated().sum()\n",
        "#analyzing duplicate values"
      ],
      "metadata": {
        "id": "haNANuIjUIXe",
        "colab": {
          "base_uri": "https://localhost:8080/"
        },
        "outputId": "95267c2e-05d0-4bff-a2ed-71ce21bad722"
      },
      "execution_count": 15,
      "outputs": [
        {
          "output_type": "execute_result",
          "data": {
            "text/plain": [
              "0"
            ]
          },
          "metadata": {},
          "execution_count": 15
        }
      ]
    },
    {
      "cell_type": "markdown",
      "source": [
        "# Weighted_rating\n",
        "When producing its top 'n' movies, IMDB, for example, does not utilise simple movie vote averages as the score. Instead, it utilizes a formula that considers the overall number of votes received."
      ],
      "metadata": {
        "id": "xEURtHMkBtXy"
      }
    },
    {
      "cell_type": "markdown",
      "source": [
        "A formula for identifying the most popular films:\n",
        "\n",
        "\n",
        "```\n",
        "# ((v ÷ v + m) * R ) + ((m ÷ v + m) * C )\n",
        "where:\n",
        "  R = Rating average of the movie\n",
        "  v = Number of votes for the movie\n",
        "  m = minimum votes required\n",
        "  C = the mean votes\n",
        "\n",
        "```\n",
        "\n",
        "\n"
      ],
      "metadata": {
        "id": "TwgZIfkjUP3q"
      }
    },
    {
      "cell_type": "code",
      "source": [
        "def weighted_rating(dataframe):\n",
        "  votes = dataframe['imdb_rating']\n",
        "  mean = dataframe['imdb_rating'].mean()\n",
        "  rating = dataframe['imdb_votes']\n",
        "  min = dataframe['imdb_votes'].quantile(0.9)\n",
        "  dataframe['wr'] = (votes/(votes+min) * rating) + (min/(min+votes) * mean)"
      ],
      "metadata": {
        "id": "aykD1yurUeBK"
      },
      "execution_count": 16,
      "outputs": []
    },
    {
      "cell_type": "code",
      "source": [
        "shows['imdb_votes'] = shows['imdb_votes'].str.replace(',', '')\n",
        "shows['imdb_votes'] = shows['imdb_votes'].astype(int)"
      ],
      "metadata": {
        "id": "7twNJdfDUfXB"
      },
      "execution_count": 17,
      "outputs": []
    },
    {
      "cell_type": "code",
      "source": [
        "weighted_rating(shows)\n",
        "top_shows = shows.sort_values('wr', ascending=False)\n",
        "top_shows.head(5)\n",
        "#The top 5 shows available on Disney Plus are displayed.\n"
      ],
      "metadata": {
        "id": "Vdx7_iXSVFZm",
        "colab": {
          "base_uri": "https://localhost:8080/",
          "height": 476
        },
        "outputId": "59a60725-acfb-4ff0-ee68-97690cfbfb20"
      },
      "execution_count": 18,
      "outputs": [
        {
          "output_type": "execute_result",
          "data": {
            "text/plain": [
              "       imdb_id                                           title   type  \\\n",
              "712  tt0076759              Star Wars: Episode IV - A New Hope  movie   \n",
              "498  tt0848228                                    The Avengers  movie   \n",
              "719  tt0080684  Star Wars: Episode V - The Empire Strikes Back  movie   \n",
              "40   tt0499549                                          Avatar  movie   \n",
              "493  tt2015381                         Guardians of the Galaxy  movie   \n",
              "\n",
              "                                                  plot  \\\n",
              "712  Luke Skywalker joins forces with a Jedi Knight...   \n",
              "498  Earth's mightiest heroes must come together an...   \n",
              "719  After the Rebels are brutally overpowered by t...   \n",
              "40   A paraplegic Marine dispatched to the moon Pan...   \n",
              "493  A group of intergalactic criminals must pull t...   \n",
              "\n",
              "                                  genre        director  \\\n",
              "712  Action, Adventure, Fantasy, Sci-Fi    George Lucas   \n",
              "498           Action, Adventure, Sci-Fi     Joss Whedon   \n",
              "719  Action, Adventure, Fantasy, Sci-Fi  Irvin Kershner   \n",
              "40   Action, Adventure, Fantasy, Sci-Fi   James Cameron   \n",
              "493   Action, Adventure, Comedy, Sci-Fi      James Gunn   \n",
              "\n",
              "                                                actors  \\\n",
              "712  Mark Hamill, Harrison Ford, Carrie Fisher, Pet...   \n",
              "498  Robert Downey Jr., Chris Evans, Mark Ruffalo, ...   \n",
              "719  Mark Hamill, Harrison Ford, Carrie Fisher, Bil...   \n",
              "40   Sam Worthington, Zoe Saldana, Sigourney Weaver...   \n",
              "493  Chris Pratt, Zoe Saldana, Dave Bautista, Vin D...   \n",
              "\n",
              "                    language  imdb_rating  imdb_votes         wr  \n",
              "712                  English          8.6     1188658  48.385802  \n",
              "498  English, Russian, Hindi          8.0     1225316  46.668074  \n",
              "719                  English          8.7     1109656  46.060375  \n",
              "40          English, Spanish          7.8     1086714  41.243075  \n",
              "493                  English          8.0     1007917  39.553411  "
            ],
            "text/html": [
              "\n",
              "  <div id=\"df-3c4b211d-6719-4ae4-a56f-964abbeb61d7\">\n",
              "    <div class=\"colab-df-container\">\n",
              "      <div>\n",
              "<style scoped>\n",
              "    .dataframe tbody tr th:only-of-type {\n",
              "        vertical-align: middle;\n",
              "    }\n",
              "\n",
              "    .dataframe tbody tr th {\n",
              "        vertical-align: top;\n",
              "    }\n",
              "\n",
              "    .dataframe thead th {\n",
              "        text-align: right;\n",
              "    }\n",
              "</style>\n",
              "<table border=\"1\" class=\"dataframe\">\n",
              "  <thead>\n",
              "    <tr style=\"text-align: right;\">\n",
              "      <th></th>\n",
              "      <th>imdb_id</th>\n",
              "      <th>title</th>\n",
              "      <th>type</th>\n",
              "      <th>plot</th>\n",
              "      <th>genre</th>\n",
              "      <th>director</th>\n",
              "      <th>actors</th>\n",
              "      <th>language</th>\n",
              "      <th>imdb_rating</th>\n",
              "      <th>imdb_votes</th>\n",
              "      <th>wr</th>\n",
              "    </tr>\n",
              "  </thead>\n",
              "  <tbody>\n",
              "    <tr>\n",
              "      <th>712</th>\n",
              "      <td>tt0076759</td>\n",
              "      <td>Star Wars: Episode IV - A New Hope</td>\n",
              "      <td>movie</td>\n",
              "      <td>Luke Skywalker joins forces with a Jedi Knight...</td>\n",
              "      <td>Action, Adventure, Fantasy, Sci-Fi</td>\n",
              "      <td>George Lucas</td>\n",
              "      <td>Mark Hamill, Harrison Ford, Carrie Fisher, Pet...</td>\n",
              "      <td>English</td>\n",
              "      <td>8.6</td>\n",
              "      <td>1188658</td>\n",
              "      <td>48.385802</td>\n",
              "    </tr>\n",
              "    <tr>\n",
              "      <th>498</th>\n",
              "      <td>tt0848228</td>\n",
              "      <td>The Avengers</td>\n",
              "      <td>movie</td>\n",
              "      <td>Earth's mightiest heroes must come together an...</td>\n",
              "      <td>Action, Adventure, Sci-Fi</td>\n",
              "      <td>Joss Whedon</td>\n",
              "      <td>Robert Downey Jr., Chris Evans, Mark Ruffalo, ...</td>\n",
              "      <td>English, Russian, Hindi</td>\n",
              "      <td>8.0</td>\n",
              "      <td>1225316</td>\n",
              "      <td>46.668074</td>\n",
              "    </tr>\n",
              "    <tr>\n",
              "      <th>719</th>\n",
              "      <td>tt0080684</td>\n",
              "      <td>Star Wars: Episode V - The Empire Strikes Back</td>\n",
              "      <td>movie</td>\n",
              "      <td>After the Rebels are brutally overpowered by t...</td>\n",
              "      <td>Action, Adventure, Fantasy, Sci-Fi</td>\n",
              "      <td>Irvin Kershner</td>\n",
              "      <td>Mark Hamill, Harrison Ford, Carrie Fisher, Bil...</td>\n",
              "      <td>English</td>\n",
              "      <td>8.7</td>\n",
              "      <td>1109656</td>\n",
              "      <td>46.060375</td>\n",
              "    </tr>\n",
              "    <tr>\n",
              "      <th>40</th>\n",
              "      <td>tt0499549</td>\n",
              "      <td>Avatar</td>\n",
              "      <td>movie</td>\n",
              "      <td>A paraplegic Marine dispatched to the moon Pan...</td>\n",
              "      <td>Action, Adventure, Fantasy, Sci-Fi</td>\n",
              "      <td>James Cameron</td>\n",
              "      <td>Sam Worthington, Zoe Saldana, Sigourney Weaver...</td>\n",
              "      <td>English, Spanish</td>\n",
              "      <td>7.8</td>\n",
              "      <td>1086714</td>\n",
              "      <td>41.243075</td>\n",
              "    </tr>\n",
              "    <tr>\n",
              "      <th>493</th>\n",
              "      <td>tt2015381</td>\n",
              "      <td>Guardians of the Galaxy</td>\n",
              "      <td>movie</td>\n",
              "      <td>A group of intergalactic criminals must pull t...</td>\n",
              "      <td>Action, Adventure, Comedy, Sci-Fi</td>\n",
              "      <td>James Gunn</td>\n",
              "      <td>Chris Pratt, Zoe Saldana, Dave Bautista, Vin D...</td>\n",
              "      <td>English</td>\n",
              "      <td>8.0</td>\n",
              "      <td>1007917</td>\n",
              "      <td>39.553411</td>\n",
              "    </tr>\n",
              "  </tbody>\n",
              "</table>\n",
              "</div>\n",
              "      <button class=\"colab-df-convert\" onclick=\"convertToInteractive('df-3c4b211d-6719-4ae4-a56f-964abbeb61d7')\"\n",
              "              title=\"Convert this dataframe to an interactive table.\"\n",
              "              style=\"display:none;\">\n",
              "        \n",
              "  <svg xmlns=\"http://www.w3.org/2000/svg\" height=\"24px\"viewBox=\"0 0 24 24\"\n",
              "       width=\"24px\">\n",
              "    <path d=\"M0 0h24v24H0V0z\" fill=\"none\"/>\n",
              "    <path d=\"M18.56 5.44l.94 2.06.94-2.06 2.06-.94-2.06-.94-.94-2.06-.94 2.06-2.06.94zm-11 1L8.5 8.5l.94-2.06 2.06-.94-2.06-.94L8.5 2.5l-.94 2.06-2.06.94zm10 10l.94 2.06.94-2.06 2.06-.94-2.06-.94-.94-2.06-.94 2.06-2.06.94z\"/><path d=\"M17.41 7.96l-1.37-1.37c-.4-.4-.92-.59-1.43-.59-.52 0-1.04.2-1.43.59L10.3 9.45l-7.72 7.72c-.78.78-.78 2.05 0 2.83L4 21.41c.39.39.9.59 1.41.59.51 0 1.02-.2 1.41-.59l7.78-7.78 2.81-2.81c.8-.78.8-2.07 0-2.86zM5.41 20L4 18.59l7.72-7.72 1.47 1.35L5.41 20z\"/>\n",
              "  </svg>\n",
              "      </button>\n",
              "      \n",
              "  <style>\n",
              "    .colab-df-container {\n",
              "      display:flex;\n",
              "      flex-wrap:wrap;\n",
              "      gap: 12px;\n",
              "    }\n",
              "\n",
              "    .colab-df-convert {\n",
              "      background-color: #E8F0FE;\n",
              "      border: none;\n",
              "      border-radius: 50%;\n",
              "      cursor: pointer;\n",
              "      display: none;\n",
              "      fill: #1967D2;\n",
              "      height: 32px;\n",
              "      padding: 0 0 0 0;\n",
              "      width: 32px;\n",
              "    }\n",
              "\n",
              "    .colab-df-convert:hover {\n",
              "      background-color: #E2EBFA;\n",
              "      box-shadow: 0px 1px 2px rgba(60, 64, 67, 0.3), 0px 1px 3px 1px rgba(60, 64, 67, 0.15);\n",
              "      fill: #174EA6;\n",
              "    }\n",
              "\n",
              "    [theme=dark] .colab-df-convert {\n",
              "      background-color: #3B4455;\n",
              "      fill: #D2E3FC;\n",
              "    }\n",
              "\n",
              "    [theme=dark] .colab-df-convert:hover {\n",
              "      background-color: #434B5C;\n",
              "      box-shadow: 0px 1px 3px 1px rgba(0, 0, 0, 0.15);\n",
              "      filter: drop-shadow(0px 1px 2px rgba(0, 0, 0, 0.3));\n",
              "      fill: #FFFFFF;\n",
              "    }\n",
              "  </style>\n",
              "\n",
              "      <script>\n",
              "        const buttonEl =\n",
              "          document.querySelector('#df-3c4b211d-6719-4ae4-a56f-964abbeb61d7 button.colab-df-convert');\n",
              "        buttonEl.style.display =\n",
              "          google.colab.kernel.accessAllowed ? 'block' : 'none';\n",
              "\n",
              "        async function convertToInteractive(key) {\n",
              "          const element = document.querySelector('#df-3c4b211d-6719-4ae4-a56f-964abbeb61d7');\n",
              "          const dataTable =\n",
              "            await google.colab.kernel.invokeFunction('convertToInteractive',\n",
              "                                                     [key], {});\n",
              "          if (!dataTable) return;\n",
              "\n",
              "          const docLinkHtml = 'Like what you see? Visit the ' +\n",
              "            '<a target=\"_blank\" href=https://colab.research.google.com/notebooks/data_table.ipynb>data table notebook</a>'\n",
              "            + ' to learn more about interactive tables.';\n",
              "          element.innerHTML = '';\n",
              "          dataTable['output_type'] = 'display_data';\n",
              "          await google.colab.output.renderOutput(dataTable, element);\n",
              "          const docLink = document.createElement('div');\n",
              "          docLink.innerHTML = docLinkHtml;\n",
              "          element.appendChild(docLink);\n",
              "        }\n",
              "      </script>\n",
              "    </div>\n",
              "  </div>\n",
              "  "
            ]
          },
          "metadata": {},
          "execution_count": 18
        }
      ]
    },
    {
      "cell_type": "code",
      "source": [
        "movies = shows[shows.type=='movie']\n",
        "weighted_rating(movies)\n",
        "top_movies = movies.sort_values('wr', ascending=False)\n",
        "top_movies.head(5)\n",
        "#The top 5 movies available on Disney Plus are displayed"
      ],
      "metadata": {
        "id": "BGAm50z8VcZH",
        "colab": {
          "base_uri": "https://localhost:8080/",
          "height": 476
        },
        "outputId": "336b9f22-13dd-42cd-a5f8-3bff4ca9a31b"
      },
      "execution_count": 19,
      "outputs": [
        {
          "output_type": "execute_result",
          "data": {
            "text/plain": [
              "       imdb_id                                           title   type  \\\n",
              "712  tt0076759              Star Wars: Episode IV - A New Hope  movie   \n",
              "498  tt0848228                                    The Avengers  movie   \n",
              "719  tt0080684  Star Wars: Episode V - The Empire Strikes Back  movie   \n",
              "40   tt0499549                                          Avatar  movie   \n",
              "493  tt2015381                         Guardians of the Galaxy  movie   \n",
              "\n",
              "                                                  plot  \\\n",
              "712  Luke Skywalker joins forces with a Jedi Knight...   \n",
              "498  Earth's mightiest heroes must come together an...   \n",
              "719  After the Rebels are brutally overpowered by t...   \n",
              "40   A paraplegic Marine dispatched to the moon Pan...   \n",
              "493  A group of intergalactic criminals must pull t...   \n",
              "\n",
              "                                  genre        director  \\\n",
              "712  Action, Adventure, Fantasy, Sci-Fi    George Lucas   \n",
              "498           Action, Adventure, Sci-Fi     Joss Whedon   \n",
              "719  Action, Adventure, Fantasy, Sci-Fi  Irvin Kershner   \n",
              "40   Action, Adventure, Fantasy, Sci-Fi   James Cameron   \n",
              "493   Action, Adventure, Comedy, Sci-Fi      James Gunn   \n",
              "\n",
              "                                                actors  \\\n",
              "712  Mark Hamill, Harrison Ford, Carrie Fisher, Pet...   \n",
              "498  Robert Downey Jr., Chris Evans, Mark Ruffalo, ...   \n",
              "719  Mark Hamill, Harrison Ford, Carrie Fisher, Bil...   \n",
              "40   Sam Worthington, Zoe Saldana, Sigourney Weaver...   \n",
              "493  Chris Pratt, Zoe Saldana, Dave Bautista, Vin D...   \n",
              "\n",
              "                    language  imdb_rating  imdb_votes         wr  \n",
              "712                  English          8.6     1188658  47.504320  \n",
              "498  English, Russian, Hindi          8.0     1225316  45.822523  \n",
              "719                  English          8.7     1109656  45.227539  \n",
              "40          English, Spanish          7.8     1086714  40.511011  \n",
              "493                  English          8.0     1007917  38.856694  "
            ],
            "text/html": [
              "\n",
              "  <div id=\"df-6833139f-26be-408e-9a65-3b4a865bef5f\">\n",
              "    <div class=\"colab-df-container\">\n",
              "      <div>\n",
              "<style scoped>\n",
              "    .dataframe tbody tr th:only-of-type {\n",
              "        vertical-align: middle;\n",
              "    }\n",
              "\n",
              "    .dataframe tbody tr th {\n",
              "        vertical-align: top;\n",
              "    }\n",
              "\n",
              "    .dataframe thead th {\n",
              "        text-align: right;\n",
              "    }\n",
              "</style>\n",
              "<table border=\"1\" class=\"dataframe\">\n",
              "  <thead>\n",
              "    <tr style=\"text-align: right;\">\n",
              "      <th></th>\n",
              "      <th>imdb_id</th>\n",
              "      <th>title</th>\n",
              "      <th>type</th>\n",
              "      <th>plot</th>\n",
              "      <th>genre</th>\n",
              "      <th>director</th>\n",
              "      <th>actors</th>\n",
              "      <th>language</th>\n",
              "      <th>imdb_rating</th>\n",
              "      <th>imdb_votes</th>\n",
              "      <th>wr</th>\n",
              "    </tr>\n",
              "  </thead>\n",
              "  <tbody>\n",
              "    <tr>\n",
              "      <th>712</th>\n",
              "      <td>tt0076759</td>\n",
              "      <td>Star Wars: Episode IV - A New Hope</td>\n",
              "      <td>movie</td>\n",
              "      <td>Luke Skywalker joins forces with a Jedi Knight...</td>\n",
              "      <td>Action, Adventure, Fantasy, Sci-Fi</td>\n",
              "      <td>George Lucas</td>\n",
              "      <td>Mark Hamill, Harrison Ford, Carrie Fisher, Pet...</td>\n",
              "      <td>English</td>\n",
              "      <td>8.6</td>\n",
              "      <td>1188658</td>\n",
              "      <td>47.504320</td>\n",
              "    </tr>\n",
              "    <tr>\n",
              "      <th>498</th>\n",
              "      <td>tt0848228</td>\n",
              "      <td>The Avengers</td>\n",
              "      <td>movie</td>\n",
              "      <td>Earth's mightiest heroes must come together an...</td>\n",
              "      <td>Action, Adventure, Sci-Fi</td>\n",
              "      <td>Joss Whedon</td>\n",
              "      <td>Robert Downey Jr., Chris Evans, Mark Ruffalo, ...</td>\n",
              "      <td>English, Russian, Hindi</td>\n",
              "      <td>8.0</td>\n",
              "      <td>1225316</td>\n",
              "      <td>45.822523</td>\n",
              "    </tr>\n",
              "    <tr>\n",
              "      <th>719</th>\n",
              "      <td>tt0080684</td>\n",
              "      <td>Star Wars: Episode V - The Empire Strikes Back</td>\n",
              "      <td>movie</td>\n",
              "      <td>After the Rebels are brutally overpowered by t...</td>\n",
              "      <td>Action, Adventure, Fantasy, Sci-Fi</td>\n",
              "      <td>Irvin Kershner</td>\n",
              "      <td>Mark Hamill, Harrison Ford, Carrie Fisher, Bil...</td>\n",
              "      <td>English</td>\n",
              "      <td>8.7</td>\n",
              "      <td>1109656</td>\n",
              "      <td>45.227539</td>\n",
              "    </tr>\n",
              "    <tr>\n",
              "      <th>40</th>\n",
              "      <td>tt0499549</td>\n",
              "      <td>Avatar</td>\n",
              "      <td>movie</td>\n",
              "      <td>A paraplegic Marine dispatched to the moon Pan...</td>\n",
              "      <td>Action, Adventure, Fantasy, Sci-Fi</td>\n",
              "      <td>James Cameron</td>\n",
              "      <td>Sam Worthington, Zoe Saldana, Sigourney Weaver...</td>\n",
              "      <td>English, Spanish</td>\n",
              "      <td>7.8</td>\n",
              "      <td>1086714</td>\n",
              "      <td>40.511011</td>\n",
              "    </tr>\n",
              "    <tr>\n",
              "      <th>493</th>\n",
              "      <td>tt2015381</td>\n",
              "      <td>Guardians of the Galaxy</td>\n",
              "      <td>movie</td>\n",
              "      <td>A group of intergalactic criminals must pull t...</td>\n",
              "      <td>Action, Adventure, Comedy, Sci-Fi</td>\n",
              "      <td>James Gunn</td>\n",
              "      <td>Chris Pratt, Zoe Saldana, Dave Bautista, Vin D...</td>\n",
              "      <td>English</td>\n",
              "      <td>8.0</td>\n",
              "      <td>1007917</td>\n",
              "      <td>38.856694</td>\n",
              "    </tr>\n",
              "  </tbody>\n",
              "</table>\n",
              "</div>\n",
              "      <button class=\"colab-df-convert\" onclick=\"convertToInteractive('df-6833139f-26be-408e-9a65-3b4a865bef5f')\"\n",
              "              title=\"Convert this dataframe to an interactive table.\"\n",
              "              style=\"display:none;\">\n",
              "        \n",
              "  <svg xmlns=\"http://www.w3.org/2000/svg\" height=\"24px\"viewBox=\"0 0 24 24\"\n",
              "       width=\"24px\">\n",
              "    <path d=\"M0 0h24v24H0V0z\" fill=\"none\"/>\n",
              "    <path d=\"M18.56 5.44l.94 2.06.94-2.06 2.06-.94-2.06-.94-.94-2.06-.94 2.06-2.06.94zm-11 1L8.5 8.5l.94-2.06 2.06-.94-2.06-.94L8.5 2.5l-.94 2.06-2.06.94zm10 10l.94 2.06.94-2.06 2.06-.94-2.06-.94-.94-2.06-.94 2.06-2.06.94z\"/><path d=\"M17.41 7.96l-1.37-1.37c-.4-.4-.92-.59-1.43-.59-.52 0-1.04.2-1.43.59L10.3 9.45l-7.72 7.72c-.78.78-.78 2.05 0 2.83L4 21.41c.39.39.9.59 1.41.59.51 0 1.02-.2 1.41-.59l7.78-7.78 2.81-2.81c.8-.78.8-2.07 0-2.86zM5.41 20L4 18.59l7.72-7.72 1.47 1.35L5.41 20z\"/>\n",
              "  </svg>\n",
              "      </button>\n",
              "      \n",
              "  <style>\n",
              "    .colab-df-container {\n",
              "      display:flex;\n",
              "      flex-wrap:wrap;\n",
              "      gap: 12px;\n",
              "    }\n",
              "\n",
              "    .colab-df-convert {\n",
              "      background-color: #E8F0FE;\n",
              "      border: none;\n",
              "      border-radius: 50%;\n",
              "      cursor: pointer;\n",
              "      display: none;\n",
              "      fill: #1967D2;\n",
              "      height: 32px;\n",
              "      padding: 0 0 0 0;\n",
              "      width: 32px;\n",
              "    }\n",
              "\n",
              "    .colab-df-convert:hover {\n",
              "      background-color: #E2EBFA;\n",
              "      box-shadow: 0px 1px 2px rgba(60, 64, 67, 0.3), 0px 1px 3px 1px rgba(60, 64, 67, 0.15);\n",
              "      fill: #174EA6;\n",
              "    }\n",
              "\n",
              "    [theme=dark] .colab-df-convert {\n",
              "      background-color: #3B4455;\n",
              "      fill: #D2E3FC;\n",
              "    }\n",
              "\n",
              "    [theme=dark] .colab-df-convert:hover {\n",
              "      background-color: #434B5C;\n",
              "      box-shadow: 0px 1px 3px 1px rgba(0, 0, 0, 0.15);\n",
              "      filter: drop-shadow(0px 1px 2px rgba(0, 0, 0, 0.3));\n",
              "      fill: #FFFFFF;\n",
              "    }\n",
              "  </style>\n",
              "\n",
              "      <script>\n",
              "        const buttonEl =\n",
              "          document.querySelector('#df-6833139f-26be-408e-9a65-3b4a865bef5f button.colab-df-convert');\n",
              "        buttonEl.style.display =\n",
              "          google.colab.kernel.accessAllowed ? 'block' : 'none';\n",
              "\n",
              "        async function convertToInteractive(key) {\n",
              "          const element = document.querySelector('#df-6833139f-26be-408e-9a65-3b4a865bef5f');\n",
              "          const dataTable =\n",
              "            await google.colab.kernel.invokeFunction('convertToInteractive',\n",
              "                                                     [key], {});\n",
              "          if (!dataTable) return;\n",
              "\n",
              "          const docLinkHtml = 'Like what you see? Visit the ' +\n",
              "            '<a target=\"_blank\" href=https://colab.research.google.com/notebooks/data_table.ipynb>data table notebook</a>'\n",
              "            + ' to learn more about interactive tables.';\n",
              "          element.innerHTML = '';\n",
              "          dataTable['output_type'] = 'display_data';\n",
              "          await google.colab.output.renderOutput(dataTable, element);\n",
              "          const docLink = document.createElement('div');\n",
              "          docLink.innerHTML = docLinkHtml;\n",
              "          element.appendChild(docLink);\n",
              "        }\n",
              "      </script>\n",
              "    </div>\n",
              "  </div>\n",
              "  "
            ]
          },
          "metadata": {},
          "execution_count": 19
        }
      ]
    },
    {
      "cell_type": "code",
      "source": [
        "episodes = shows[shows.type=='episode']\n",
        "weighted_rating(episodes)\n",
        "top_episodes = episodes.sort_values('wr', ascending=False)\n",
        "top_episodes.head(5)\n",
        "#The top 5 movies available on Disney Plus are displayed"
      ],
      "metadata": {
        "id": "A-ZFv7SMV09A",
        "colab": {
          "base_uri": "https://localhost:8080/",
          "height": 545
        },
        "outputId": "cd35c4ae-4c1f-4830-f458-e58351d052b0"
      },
      "execution_count": 20,
      "outputs": [
        {
          "output_type": "execute_result",
          "data": {
            "text/plain": [
              "       imdb_id                             title     type  \\\n",
              "552  tt0091566                       Mr. Boogedy  episode   \n",
              "185  tt3067144       Phineas and Ferb: Star Wars  episode   \n",
              "604  tt2283584  Phineas and Ferb: Mission Marvel  episode   \n",
              "102  tt1378121                       El Materdor  episode   \n",
              "109  tt1378123                Rescue Squad Mater  episode   \n",
              "\n",
              "                                                  plot  \\\n",
              "552  A novelty-salesman moves his family into a new...   \n",
              "185  Phineas and Ferb travel to a galaxy far far aw...   \n",
              "604  When Dr. Doofenshmirtz's latest invention caus...   \n",
              "102  Mater tells Lightning McQueen about his former...   \n",
              "109  Mater tells Lightning McQueen about his previo...   \n",
              "\n",
              "                                                 genre  \\\n",
              "552                           Adventure, Drama, Family   \n",
              "185  Animation, Action, Comedy, Family, Musical, Sc...   \n",
              "604  Animation, Action, Comedy, Family, Musical, Sc...   \n",
              "102               Animation, Adventure, Comedy, Family   \n",
              "109                       Animation, Adventure, Comedy   \n",
              "\n",
              "                                              director  \\\n",
              "552                                           Oz Scott   \n",
              "185                        Robert Hughes, Sue Perrotto   \n",
              "604                        Robert Hughes, Sue Perrotto   \n",
              "102  John Lasseter, Rob Gibbs(co-director), Victor ...   \n",
              "109  John Lasseter, Rob Gibbs(co-director), Victor ...   \n",
              "\n",
              "                                                actors  \\\n",
              "552  Richard Masur, Mimi Kennedy, Benji Gregory, Da...   \n",
              "185  Vincent Martella, Ella Kennedy, Ashley Tisdale...   \n",
              "604  Vincent Martella, Ashley Tisdale, Thomas Brodi...   \n",
              "102                Keith Ferguson, Larry the Cable Guy   \n",
              "109                Keith Ferguson, Larry the Cable Guy   \n",
              "\n",
              "                             language  imdb_rating  imdb_votes         wr  \n",
              "552                           English          7.3        1173  20.459764  \n",
              "185  English, Brazilian Sign Language          8.2         492  13.315022  \n",
              "604           Brazilian Sign Language          8.3         419  12.438303  \n",
              "102                           English          6.4         283   9.849480  \n",
              "109                           English          6.3         272   9.697210  "
            ],
            "text/html": [
              "\n",
              "  <div id=\"df-ab22ef79-91a3-4348-be3f-22e29beab14e\">\n",
              "    <div class=\"colab-df-container\">\n",
              "      <div>\n",
              "<style scoped>\n",
              "    .dataframe tbody tr th:only-of-type {\n",
              "        vertical-align: middle;\n",
              "    }\n",
              "\n",
              "    .dataframe tbody tr th {\n",
              "        vertical-align: top;\n",
              "    }\n",
              "\n",
              "    .dataframe thead th {\n",
              "        text-align: right;\n",
              "    }\n",
              "</style>\n",
              "<table border=\"1\" class=\"dataframe\">\n",
              "  <thead>\n",
              "    <tr style=\"text-align: right;\">\n",
              "      <th></th>\n",
              "      <th>imdb_id</th>\n",
              "      <th>title</th>\n",
              "      <th>type</th>\n",
              "      <th>plot</th>\n",
              "      <th>genre</th>\n",
              "      <th>director</th>\n",
              "      <th>actors</th>\n",
              "      <th>language</th>\n",
              "      <th>imdb_rating</th>\n",
              "      <th>imdb_votes</th>\n",
              "      <th>wr</th>\n",
              "    </tr>\n",
              "  </thead>\n",
              "  <tbody>\n",
              "    <tr>\n",
              "      <th>552</th>\n",
              "      <td>tt0091566</td>\n",
              "      <td>Mr. Boogedy</td>\n",
              "      <td>episode</td>\n",
              "      <td>A novelty-salesman moves his family into a new...</td>\n",
              "      <td>Adventure, Drama, Family</td>\n",
              "      <td>Oz Scott</td>\n",
              "      <td>Richard Masur, Mimi Kennedy, Benji Gregory, Da...</td>\n",
              "      <td>English</td>\n",
              "      <td>7.3</td>\n",
              "      <td>1173</td>\n",
              "      <td>20.459764</td>\n",
              "    </tr>\n",
              "    <tr>\n",
              "      <th>185</th>\n",
              "      <td>tt3067144</td>\n",
              "      <td>Phineas and Ferb: Star Wars</td>\n",
              "      <td>episode</td>\n",
              "      <td>Phineas and Ferb travel to a galaxy far far aw...</td>\n",
              "      <td>Animation, Action, Comedy, Family, Musical, Sc...</td>\n",
              "      <td>Robert Hughes, Sue Perrotto</td>\n",
              "      <td>Vincent Martella, Ella Kennedy, Ashley Tisdale...</td>\n",
              "      <td>English, Brazilian Sign Language</td>\n",
              "      <td>8.2</td>\n",
              "      <td>492</td>\n",
              "      <td>13.315022</td>\n",
              "    </tr>\n",
              "    <tr>\n",
              "      <th>604</th>\n",
              "      <td>tt2283584</td>\n",
              "      <td>Phineas and Ferb: Mission Marvel</td>\n",
              "      <td>episode</td>\n",
              "      <td>When Dr. Doofenshmirtz's latest invention caus...</td>\n",
              "      <td>Animation, Action, Comedy, Family, Musical, Sc...</td>\n",
              "      <td>Robert Hughes, Sue Perrotto</td>\n",
              "      <td>Vincent Martella, Ashley Tisdale, Thomas Brodi...</td>\n",
              "      <td>Brazilian Sign Language</td>\n",
              "      <td>8.3</td>\n",
              "      <td>419</td>\n",
              "      <td>12.438303</td>\n",
              "    </tr>\n",
              "    <tr>\n",
              "      <th>102</th>\n",
              "      <td>tt1378121</td>\n",
              "      <td>El Materdor</td>\n",
              "      <td>episode</td>\n",
              "      <td>Mater tells Lightning McQueen about his former...</td>\n",
              "      <td>Animation, Adventure, Comedy, Family</td>\n",
              "      <td>John Lasseter, Rob Gibbs(co-director), Victor ...</td>\n",
              "      <td>Keith Ferguson, Larry the Cable Guy</td>\n",
              "      <td>English</td>\n",
              "      <td>6.4</td>\n",
              "      <td>283</td>\n",
              "      <td>9.849480</td>\n",
              "    </tr>\n",
              "    <tr>\n",
              "      <th>109</th>\n",
              "      <td>tt1378123</td>\n",
              "      <td>Rescue Squad Mater</td>\n",
              "      <td>episode</td>\n",
              "      <td>Mater tells Lightning McQueen about his previo...</td>\n",
              "      <td>Animation, Adventure, Comedy</td>\n",
              "      <td>John Lasseter, Rob Gibbs(co-director), Victor ...</td>\n",
              "      <td>Keith Ferguson, Larry the Cable Guy</td>\n",
              "      <td>English</td>\n",
              "      <td>6.3</td>\n",
              "      <td>272</td>\n",
              "      <td>9.697210</td>\n",
              "    </tr>\n",
              "  </tbody>\n",
              "</table>\n",
              "</div>\n",
              "      <button class=\"colab-df-convert\" onclick=\"convertToInteractive('df-ab22ef79-91a3-4348-be3f-22e29beab14e')\"\n",
              "              title=\"Convert this dataframe to an interactive table.\"\n",
              "              style=\"display:none;\">\n",
              "        \n",
              "  <svg xmlns=\"http://www.w3.org/2000/svg\" height=\"24px\"viewBox=\"0 0 24 24\"\n",
              "       width=\"24px\">\n",
              "    <path d=\"M0 0h24v24H0V0z\" fill=\"none\"/>\n",
              "    <path d=\"M18.56 5.44l.94 2.06.94-2.06 2.06-.94-2.06-.94-.94-2.06-.94 2.06-2.06.94zm-11 1L8.5 8.5l.94-2.06 2.06-.94-2.06-.94L8.5 2.5l-.94 2.06-2.06.94zm10 10l.94 2.06.94-2.06 2.06-.94-2.06-.94-.94-2.06-.94 2.06-2.06.94z\"/><path d=\"M17.41 7.96l-1.37-1.37c-.4-.4-.92-.59-1.43-.59-.52 0-1.04.2-1.43.59L10.3 9.45l-7.72 7.72c-.78.78-.78 2.05 0 2.83L4 21.41c.39.39.9.59 1.41.59.51 0 1.02-.2 1.41-.59l7.78-7.78 2.81-2.81c.8-.78.8-2.07 0-2.86zM5.41 20L4 18.59l7.72-7.72 1.47 1.35L5.41 20z\"/>\n",
              "  </svg>\n",
              "      </button>\n",
              "      \n",
              "  <style>\n",
              "    .colab-df-container {\n",
              "      display:flex;\n",
              "      flex-wrap:wrap;\n",
              "      gap: 12px;\n",
              "    }\n",
              "\n",
              "    .colab-df-convert {\n",
              "      background-color: #E8F0FE;\n",
              "      border: none;\n",
              "      border-radius: 50%;\n",
              "      cursor: pointer;\n",
              "      display: none;\n",
              "      fill: #1967D2;\n",
              "      height: 32px;\n",
              "      padding: 0 0 0 0;\n",
              "      width: 32px;\n",
              "    }\n",
              "\n",
              "    .colab-df-convert:hover {\n",
              "      background-color: #E2EBFA;\n",
              "      box-shadow: 0px 1px 2px rgba(60, 64, 67, 0.3), 0px 1px 3px 1px rgba(60, 64, 67, 0.15);\n",
              "      fill: #174EA6;\n",
              "    }\n",
              "\n",
              "    [theme=dark] .colab-df-convert {\n",
              "      background-color: #3B4455;\n",
              "      fill: #D2E3FC;\n",
              "    }\n",
              "\n",
              "    [theme=dark] .colab-df-convert:hover {\n",
              "      background-color: #434B5C;\n",
              "      box-shadow: 0px 1px 3px 1px rgba(0, 0, 0, 0.15);\n",
              "      filter: drop-shadow(0px 1px 2px rgba(0, 0, 0, 0.3));\n",
              "      fill: #FFFFFF;\n",
              "    }\n",
              "  </style>\n",
              "\n",
              "      <script>\n",
              "        const buttonEl =\n",
              "          document.querySelector('#df-ab22ef79-91a3-4348-be3f-22e29beab14e button.colab-df-convert');\n",
              "        buttonEl.style.display =\n",
              "          google.colab.kernel.accessAllowed ? 'block' : 'none';\n",
              "\n",
              "        async function convertToInteractive(key) {\n",
              "          const element = document.querySelector('#df-ab22ef79-91a3-4348-be3f-22e29beab14e');\n",
              "          const dataTable =\n",
              "            await google.colab.kernel.invokeFunction('convertToInteractive',\n",
              "                                                     [key], {});\n",
              "          if (!dataTable) return;\n",
              "\n",
              "          const docLinkHtml = 'Like what you see? Visit the ' +\n",
              "            '<a target=\"_blank\" href=https://colab.research.google.com/notebooks/data_table.ipynb>data table notebook</a>'\n",
              "            + ' to learn more about interactive tables.';\n",
              "          element.innerHTML = '';\n",
              "          dataTable['output_type'] = 'display_data';\n",
              "          await google.colab.output.renderOutput(dataTable, element);\n",
              "          const docLink = document.createElement('div');\n",
              "          docLink.innerHTML = docLinkHtml;\n",
              "          element.appendChild(docLink);\n",
              "        }\n",
              "      </script>\n",
              "    </div>\n",
              "  </div>\n",
              "  "
            ]
          },
          "metadata": {},
          "execution_count": 20
        }
      ]
    },
    {
      "cell_type": "markdown",
      "source": [
        "# Rapid Automation Keyword Extraction\n",
        "To extract keywords from the plot(description) of the shows, we used the Rake keyword extraction algorithm.\n",
        "For more information about rake_nlkt, check out https://pypi.org/project/rake-nltk/\n",
        "\n",
        "This algorithm is from NLP\n"
      ],
      "metadata": {
        "id": "SihozPZ_-ArQ"
      }
    },
    {
      "cell_type": "code",
      "source": [
        "#installing\n",
        "!pip install rake_nltk"
      ],
      "metadata": {
        "id": "8FCvqwIKPODR",
        "colab": {
          "base_uri": "https://localhost:8080/"
        },
        "outputId": "e4f169d4-902d-4bb9-d0a4-9e60318ad7e1"
      },
      "execution_count": 21,
      "outputs": [
        {
          "output_type": "stream",
          "name": "stdout",
          "text": [
            "Looking in indexes: https://pypi.org/simple, https://us-python.pkg.dev/colab-wheels/public/simple/\n",
            "Collecting rake_nltk\n",
            "  Downloading rake_nltk-1.0.6-py3-none-any.whl (9.1 kB)\n",
            "Collecting nltk<4.0.0,>=3.6.2\n",
            "  Downloading nltk-3.7-py3-none-any.whl (1.5 MB)\n",
            "\u001b[K     |████████████████████████████████| 1.5 MB 5.0 MB/s \n",
            "\u001b[?25hRequirement already satisfied: tqdm in /usr/local/lib/python3.7/dist-packages (from nltk<4.0.0,>=3.6.2->rake_nltk) (4.64.0)\n",
            "Requirement already satisfied: joblib in /usr/local/lib/python3.7/dist-packages (from nltk<4.0.0,>=3.6.2->rake_nltk) (1.1.0)\n",
            "Requirement already satisfied: click in /usr/local/lib/python3.7/dist-packages (from nltk<4.0.0,>=3.6.2->rake_nltk) (7.1.2)\n",
            "Collecting regex>=2021.8.3\n",
            "  Downloading regex-2022.4.24-cp37-cp37m-manylinux_2_17_x86_64.manylinux2014_x86_64.whl (749 kB)\n",
            "\u001b[K     |████████████████████████████████| 749 kB 43.8 MB/s \n",
            "\u001b[?25hInstalling collected packages: regex, nltk, rake-nltk\n",
            "  Attempting uninstall: regex\n",
            "    Found existing installation: regex 2019.12.20\n",
            "    Uninstalling regex-2019.12.20:\n",
            "      Successfully uninstalled regex-2019.12.20\n",
            "  Attempting uninstall: nltk\n",
            "    Found existing installation: nltk 3.2.5\n",
            "    Uninstalling nltk-3.2.5:\n",
            "      Successfully uninstalled nltk-3.2.5\n",
            "Successfully installed nltk-3.7 rake-nltk-1.0.6 regex-2022.4.24\n"
          ]
        }
      ]
    },
    {
      "cell_type": "code",
      "source": [
        "from rake_nltk import Rake   \n",
        "import nltk"
      ],
      "metadata": {
        "id": "vWeIS2xwPdd6"
      },
      "execution_count": 22,
      "outputs": []
    },
    {
      "cell_type": "code",
      "source": [
        "import nltk;\n",
        "nltk.download('all')"
      ],
      "metadata": {
        "id": "tAuYr98GPlJO",
        "colab": {
          "base_uri": "https://localhost:8080/"
        },
        "outputId": "17e45eff-f2c7-4445-91b0-ddb26ae02756"
      },
      "execution_count": 23,
      "outputs": [
        {
          "output_type": "stream",
          "name": "stderr",
          "text": [
            "[nltk_data] Downloading collection 'all'\n",
            "[nltk_data]    | \n",
            "[nltk_data]    | Downloading package abc to /root/nltk_data...\n",
            "[nltk_data]    |   Unzipping corpora/abc.zip.\n",
            "[nltk_data]    | Downloading package alpino to /root/nltk_data...\n",
            "[nltk_data]    |   Unzipping corpora/alpino.zip.\n",
            "[nltk_data]    | Downloading package averaged_perceptron_tagger to\n",
            "[nltk_data]    |     /root/nltk_data...\n",
            "[nltk_data]    |   Unzipping taggers/averaged_perceptron_tagger.zip.\n",
            "[nltk_data]    | Downloading package averaged_perceptron_tagger_ru to\n",
            "[nltk_data]    |     /root/nltk_data...\n",
            "[nltk_data]    |   Unzipping\n",
            "[nltk_data]    |       taggers/averaged_perceptron_tagger_ru.zip.\n",
            "[nltk_data]    | Downloading package basque_grammars to\n",
            "[nltk_data]    |     /root/nltk_data...\n",
            "[nltk_data]    |   Unzipping grammars/basque_grammars.zip.\n",
            "[nltk_data]    | Downloading package biocreative_ppi to\n",
            "[nltk_data]    |     /root/nltk_data...\n",
            "[nltk_data]    |   Unzipping corpora/biocreative_ppi.zip.\n",
            "[nltk_data]    | Downloading package bllip_wsj_no_aux to\n",
            "[nltk_data]    |     /root/nltk_data...\n",
            "[nltk_data]    |   Unzipping models/bllip_wsj_no_aux.zip.\n",
            "[nltk_data]    | Downloading package book_grammars to\n",
            "[nltk_data]    |     /root/nltk_data...\n",
            "[nltk_data]    |   Unzipping grammars/book_grammars.zip.\n",
            "[nltk_data]    | Downloading package brown to /root/nltk_data...\n",
            "[nltk_data]    |   Unzipping corpora/brown.zip.\n",
            "[nltk_data]    | Downloading package brown_tei to /root/nltk_data...\n",
            "[nltk_data]    |   Unzipping corpora/brown_tei.zip.\n",
            "[nltk_data]    | Downloading package cess_cat to /root/nltk_data...\n",
            "[nltk_data]    |   Unzipping corpora/cess_cat.zip.\n",
            "[nltk_data]    | Downloading package cess_esp to /root/nltk_data...\n",
            "[nltk_data]    |   Unzipping corpora/cess_esp.zip.\n",
            "[nltk_data]    | Downloading package chat80 to /root/nltk_data...\n",
            "[nltk_data]    |   Unzipping corpora/chat80.zip.\n",
            "[nltk_data]    | Downloading package city_database to\n",
            "[nltk_data]    |     /root/nltk_data...\n",
            "[nltk_data]    |   Unzipping corpora/city_database.zip.\n",
            "[nltk_data]    | Downloading package cmudict to /root/nltk_data...\n",
            "[nltk_data]    |   Unzipping corpora/cmudict.zip.\n",
            "[nltk_data]    | Downloading package comparative_sentences to\n",
            "[nltk_data]    |     /root/nltk_data...\n",
            "[nltk_data]    |   Unzipping corpora/comparative_sentences.zip.\n",
            "[nltk_data]    | Downloading package comtrans to /root/nltk_data...\n",
            "[nltk_data]    | Downloading package conll2000 to /root/nltk_data...\n",
            "[nltk_data]    |   Unzipping corpora/conll2000.zip.\n",
            "[nltk_data]    | Downloading package conll2002 to /root/nltk_data...\n",
            "[nltk_data]    |   Unzipping corpora/conll2002.zip.\n",
            "[nltk_data]    | Downloading package conll2007 to /root/nltk_data...\n",
            "[nltk_data]    | Downloading package crubadan to /root/nltk_data...\n",
            "[nltk_data]    |   Unzipping corpora/crubadan.zip.\n",
            "[nltk_data]    | Downloading package dependency_treebank to\n",
            "[nltk_data]    |     /root/nltk_data...\n",
            "[nltk_data]    |   Unzipping corpora/dependency_treebank.zip.\n",
            "[nltk_data]    | Downloading package dolch to /root/nltk_data...\n",
            "[nltk_data]    |   Unzipping corpora/dolch.zip.\n",
            "[nltk_data]    | Downloading package europarl_raw to\n",
            "[nltk_data]    |     /root/nltk_data...\n",
            "[nltk_data]    |   Unzipping corpora/europarl_raw.zip.\n",
            "[nltk_data]    | Downloading package extended_omw to\n",
            "[nltk_data]    |     /root/nltk_data...\n",
            "[nltk_data]    |   Unzipping corpora/extended_omw.zip.\n",
            "[nltk_data]    | Downloading package floresta to /root/nltk_data...\n",
            "[nltk_data]    |   Unzipping corpora/floresta.zip.\n",
            "[nltk_data]    | Downloading package framenet_v15 to\n",
            "[nltk_data]    |     /root/nltk_data...\n",
            "[nltk_data]    |   Unzipping corpora/framenet_v15.zip.\n",
            "[nltk_data]    | Downloading package framenet_v17 to\n",
            "[nltk_data]    |     /root/nltk_data...\n",
            "[nltk_data]    |   Unzipping corpora/framenet_v17.zip.\n",
            "[nltk_data]    | Downloading package gazetteers to /root/nltk_data...\n",
            "[nltk_data]    |   Unzipping corpora/gazetteers.zip.\n",
            "[nltk_data]    | Downloading package genesis to /root/nltk_data...\n",
            "[nltk_data]    |   Unzipping corpora/genesis.zip.\n",
            "[nltk_data]    | Downloading package gutenberg to /root/nltk_data...\n",
            "[nltk_data]    |   Unzipping corpora/gutenberg.zip.\n",
            "[nltk_data]    | Downloading package ieer to /root/nltk_data...\n",
            "[nltk_data]    |   Unzipping corpora/ieer.zip.\n",
            "[nltk_data]    | Downloading package inaugural to /root/nltk_data...\n",
            "[nltk_data]    |   Unzipping corpora/inaugural.zip.\n",
            "[nltk_data]    | Downloading package indian to /root/nltk_data...\n",
            "[nltk_data]    |   Unzipping corpora/indian.zip.\n",
            "[nltk_data]    | Downloading package jeita to /root/nltk_data...\n",
            "[nltk_data]    | Downloading package kimmo to /root/nltk_data...\n",
            "[nltk_data]    |   Unzipping corpora/kimmo.zip.\n",
            "[nltk_data]    | Downloading package knbc to /root/nltk_data...\n",
            "[nltk_data]    | Downloading package large_grammars to\n",
            "[nltk_data]    |     /root/nltk_data...\n",
            "[nltk_data]    |   Unzipping grammars/large_grammars.zip.\n",
            "[nltk_data]    | Downloading package lin_thesaurus to\n",
            "[nltk_data]    |     /root/nltk_data...\n",
            "[nltk_data]    |   Unzipping corpora/lin_thesaurus.zip.\n",
            "[nltk_data]    | Downloading package mac_morpho to /root/nltk_data...\n",
            "[nltk_data]    |   Unzipping corpora/mac_morpho.zip.\n",
            "[nltk_data]    | Downloading package machado to /root/nltk_data...\n",
            "[nltk_data]    | Downloading package masc_tagged to /root/nltk_data...\n",
            "[nltk_data]    | Downloading package maxent_ne_chunker to\n",
            "[nltk_data]    |     /root/nltk_data...\n",
            "[nltk_data]    |   Unzipping chunkers/maxent_ne_chunker.zip.\n",
            "[nltk_data]    | Downloading package maxent_treebank_pos_tagger to\n",
            "[nltk_data]    |     /root/nltk_data...\n",
            "[nltk_data]    |   Unzipping taggers/maxent_treebank_pos_tagger.zip.\n",
            "[nltk_data]    | Downloading package moses_sample to\n",
            "[nltk_data]    |     /root/nltk_data...\n",
            "[nltk_data]    |   Unzipping models/moses_sample.zip.\n",
            "[nltk_data]    | Downloading package movie_reviews to\n",
            "[nltk_data]    |     /root/nltk_data...\n",
            "[nltk_data]    |   Unzipping corpora/movie_reviews.zip.\n",
            "[nltk_data]    | Downloading package mte_teip5 to /root/nltk_data...\n",
            "[nltk_data]    |   Unzipping corpora/mte_teip5.zip.\n",
            "[nltk_data]    | Downloading package mwa_ppdb to /root/nltk_data...\n",
            "[nltk_data]    |   Unzipping misc/mwa_ppdb.zip.\n",
            "[nltk_data]    | Downloading package names to /root/nltk_data...\n",
            "[nltk_data]    |   Unzipping corpora/names.zip.\n",
            "[nltk_data]    | Downloading package nombank.1.0 to /root/nltk_data...\n",
            "[nltk_data]    | Downloading package nonbreaking_prefixes to\n",
            "[nltk_data]    |     /root/nltk_data...\n",
            "[nltk_data]    |   Unzipping corpora/nonbreaking_prefixes.zip.\n",
            "[nltk_data]    | Downloading package nps_chat to /root/nltk_data...\n",
            "[nltk_data]    |   Unzipping corpora/nps_chat.zip.\n",
            "[nltk_data]    | Downloading package omw to /root/nltk_data...\n",
            "[nltk_data]    |   Unzipping corpora/omw.zip.\n",
            "[nltk_data]    | Downloading package omw-1.4 to /root/nltk_data...\n",
            "[nltk_data]    |   Unzipping corpora/omw-1.4.zip.\n",
            "[nltk_data]    | Downloading package opinion_lexicon to\n",
            "[nltk_data]    |     /root/nltk_data...\n",
            "[nltk_data]    |   Unzipping corpora/opinion_lexicon.zip.\n",
            "[nltk_data]    | Downloading package panlex_swadesh to\n",
            "[nltk_data]    |     /root/nltk_data...\n",
            "[nltk_data]    | Downloading package paradigms to /root/nltk_data...\n",
            "[nltk_data]    |   Unzipping corpora/paradigms.zip.\n",
            "[nltk_data]    | Downloading package pe08 to /root/nltk_data...\n",
            "[nltk_data]    |   Unzipping corpora/pe08.zip.\n",
            "[nltk_data]    | Downloading package perluniprops to\n",
            "[nltk_data]    |     /root/nltk_data...\n",
            "[nltk_data]    |   Unzipping misc/perluniprops.zip.\n",
            "[nltk_data]    | Downloading package pil to /root/nltk_data...\n",
            "[nltk_data]    |   Unzipping corpora/pil.zip.\n",
            "[nltk_data]    | Downloading package pl196x to /root/nltk_data...\n",
            "[nltk_data]    |   Unzipping corpora/pl196x.zip.\n",
            "[nltk_data]    | Downloading package porter_test to /root/nltk_data...\n",
            "[nltk_data]    |   Unzipping stemmers/porter_test.zip.\n",
            "[nltk_data]    | Downloading package ppattach to /root/nltk_data...\n",
            "[nltk_data]    |   Unzipping corpora/ppattach.zip.\n",
            "[nltk_data]    | Downloading package problem_reports to\n",
            "[nltk_data]    |     /root/nltk_data...\n",
            "[nltk_data]    |   Unzipping corpora/problem_reports.zip.\n",
            "[nltk_data]    | Downloading package product_reviews_1 to\n",
            "[nltk_data]    |     /root/nltk_data...\n",
            "[nltk_data]    |   Unzipping corpora/product_reviews_1.zip.\n",
            "[nltk_data]    | Downloading package product_reviews_2 to\n",
            "[nltk_data]    |     /root/nltk_data...\n",
            "[nltk_data]    |   Unzipping corpora/product_reviews_2.zip.\n",
            "[nltk_data]    | Downloading package propbank to /root/nltk_data...\n",
            "[nltk_data]    | Downloading package pros_cons to /root/nltk_data...\n",
            "[nltk_data]    |   Unzipping corpora/pros_cons.zip.\n",
            "[nltk_data]    | Downloading package ptb to /root/nltk_data...\n",
            "[nltk_data]    |   Unzipping corpora/ptb.zip.\n",
            "[nltk_data]    | Downloading package punkt to /root/nltk_data...\n",
            "[nltk_data]    |   Unzipping tokenizers/punkt.zip.\n",
            "[nltk_data]    | Downloading package qc to /root/nltk_data...\n",
            "[nltk_data]    |   Unzipping corpora/qc.zip.\n",
            "[nltk_data]    | Downloading package reuters to /root/nltk_data...\n",
            "[nltk_data]    | Downloading package rslp to /root/nltk_data...\n",
            "[nltk_data]    |   Unzipping stemmers/rslp.zip.\n",
            "[nltk_data]    | Downloading package rte to /root/nltk_data...\n",
            "[nltk_data]    |   Unzipping corpora/rte.zip.\n",
            "[nltk_data]    | Downloading package sample_grammars to\n",
            "[nltk_data]    |     /root/nltk_data...\n",
            "[nltk_data]    |   Unzipping grammars/sample_grammars.zip.\n",
            "[nltk_data]    | Downloading package semcor to /root/nltk_data...\n",
            "[nltk_data]    | Downloading package senseval to /root/nltk_data...\n",
            "[nltk_data]    |   Unzipping corpora/senseval.zip.\n",
            "[nltk_data]    | Downloading package sentence_polarity to\n",
            "[nltk_data]    |     /root/nltk_data...\n",
            "[nltk_data]    |   Unzipping corpora/sentence_polarity.zip.\n",
            "[nltk_data]    | Downloading package sentiwordnet to\n",
            "[nltk_data]    |     /root/nltk_data...\n",
            "[nltk_data]    |   Unzipping corpora/sentiwordnet.zip.\n",
            "[nltk_data]    | Downloading package shakespeare to /root/nltk_data...\n",
            "[nltk_data]    |   Unzipping corpora/shakespeare.zip.\n",
            "[nltk_data]    | Downloading package sinica_treebank to\n",
            "[nltk_data]    |     /root/nltk_data...\n",
            "[nltk_data]    |   Unzipping corpora/sinica_treebank.zip.\n",
            "[nltk_data]    | Downloading package smultron to /root/nltk_data...\n",
            "[nltk_data]    |   Unzipping corpora/smultron.zip.\n",
            "[nltk_data]    | Downloading package snowball_data to\n",
            "[nltk_data]    |     /root/nltk_data...\n",
            "[nltk_data]    | Downloading package spanish_grammars to\n",
            "[nltk_data]    |     /root/nltk_data...\n",
            "[nltk_data]    |   Unzipping grammars/spanish_grammars.zip.\n",
            "[nltk_data]    | Downloading package state_union to /root/nltk_data...\n",
            "[nltk_data]    |   Unzipping corpora/state_union.zip.\n",
            "[nltk_data]    | Downloading package stopwords to /root/nltk_data...\n",
            "[nltk_data]    |   Unzipping corpora/stopwords.zip.\n",
            "[nltk_data]    | Downloading package subjectivity to\n",
            "[nltk_data]    |     /root/nltk_data...\n",
            "[nltk_data]    |   Unzipping corpora/subjectivity.zip.\n",
            "[nltk_data]    | Downloading package swadesh to /root/nltk_data...\n",
            "[nltk_data]    |   Unzipping corpora/swadesh.zip.\n",
            "[nltk_data]    | Downloading package switchboard to /root/nltk_data...\n",
            "[nltk_data]    |   Unzipping corpora/switchboard.zip.\n",
            "[nltk_data]    | Downloading package tagsets to /root/nltk_data...\n",
            "[nltk_data]    |   Unzipping help/tagsets.zip.\n",
            "[nltk_data]    | Downloading package timit to /root/nltk_data...\n",
            "[nltk_data]    |   Unzipping corpora/timit.zip.\n",
            "[nltk_data]    | Downloading package toolbox to /root/nltk_data...\n",
            "[nltk_data]    |   Unzipping corpora/toolbox.zip.\n",
            "[nltk_data]    | Downloading package treebank to /root/nltk_data...\n",
            "[nltk_data]    |   Unzipping corpora/treebank.zip.\n",
            "[nltk_data]    | Downloading package twitter_samples to\n",
            "[nltk_data]    |     /root/nltk_data...\n",
            "[nltk_data]    |   Unzipping corpora/twitter_samples.zip.\n",
            "[nltk_data]    | Downloading package udhr to /root/nltk_data...\n",
            "[nltk_data]    |   Unzipping corpora/udhr.zip.\n",
            "[nltk_data]    | Downloading package udhr2 to /root/nltk_data...\n",
            "[nltk_data]    |   Unzipping corpora/udhr2.zip.\n",
            "[nltk_data]    | Downloading package unicode_samples to\n",
            "[nltk_data]    |     /root/nltk_data...\n",
            "[nltk_data]    |   Unzipping corpora/unicode_samples.zip.\n",
            "[nltk_data]    | Downloading package universal_tagset to\n",
            "[nltk_data]    |     /root/nltk_data...\n",
            "[nltk_data]    |   Unzipping taggers/universal_tagset.zip.\n",
            "[nltk_data]    | Downloading package universal_treebanks_v20 to\n",
            "[nltk_data]    |     /root/nltk_data...\n",
            "[nltk_data]    | Downloading package vader_lexicon to\n",
            "[nltk_data]    |     /root/nltk_data...\n",
            "[nltk_data]    | Downloading package verbnet to /root/nltk_data...\n",
            "[nltk_data]    |   Unzipping corpora/verbnet.zip.\n",
            "[nltk_data]    | Downloading package verbnet3 to /root/nltk_data...\n",
            "[nltk_data]    |   Unzipping corpora/verbnet3.zip.\n",
            "[nltk_data]    | Downloading package webtext to /root/nltk_data...\n",
            "[nltk_data]    |   Unzipping corpora/webtext.zip.\n",
            "[nltk_data]    | Downloading package wmt15_eval to /root/nltk_data...\n",
            "[nltk_data]    |   Unzipping models/wmt15_eval.zip.\n",
            "[nltk_data]    | Downloading package word2vec_sample to\n",
            "[nltk_data]    |     /root/nltk_data...\n",
            "[nltk_data]    |   Unzipping models/word2vec_sample.zip.\n",
            "[nltk_data]    | Downloading package wordnet to /root/nltk_data...\n",
            "[nltk_data]    |   Unzipping corpora/wordnet.zip.\n",
            "[nltk_data]    | Downloading package wordnet2021 to /root/nltk_data...\n",
            "[nltk_data]    |   Unzipping corpora/wordnet2021.zip.\n",
            "[nltk_data]    | Downloading package wordnet31 to /root/nltk_data...\n",
            "[nltk_data]    |   Unzipping corpora/wordnet31.zip.\n",
            "[nltk_data]    | Downloading package wordnet_ic to /root/nltk_data...\n",
            "[nltk_data]    |   Unzipping corpora/wordnet_ic.zip.\n",
            "[nltk_data]    | Downloading package words to /root/nltk_data...\n",
            "[nltk_data]    |   Unzipping corpora/words.zip.\n",
            "[nltk_data]    | Downloading package ycoe to /root/nltk_data...\n",
            "[nltk_data]    |   Unzipping corpora/ycoe.zip.\n",
            "[nltk_data]    | \n",
            "[nltk_data]  Done downloading collection all\n"
          ]
        },
        {
          "output_type": "execute_result",
          "data": {
            "text/plain": [
              "True"
            ]
          },
          "metadata": {},
          "execution_count": 23
        }
      ]
    },
    {
      "cell_type": "code",
      "source": [
        "r = Rake()   # using rake to remove stop words from the plot\n",
        "keys = []\n",
        "for i in range(len(shows['plot'])):\n",
        "  temp = str(shows.iat[i,3])\n",
        "  r.extract_keywords_from_text(temp)  # to extract key words\n",
        "  temp2 = r.get_ranked_phrases()   # to get keyword phrases ranked highest to lowest.\n",
        "  keys.append(temp2)\n",
        "\n",
        "\n",
        "#creating new column \"keywords\" and adding keywords to it\n",
        "shows['keywords']=keys "
      ],
      "metadata": {
        "id": "nYAFMGufP8Po"
      },
      "execution_count": 24,
      "outputs": []
    },
    {
      "cell_type": "code",
      "source": [
        "shows['keywords']\n",
        "#keywords extracted from the plot"
      ],
      "metadata": {
        "colab": {
          "base_uri": "https://localhost:8080/"
        },
        "id": "0EE__k66A3vW",
        "outputId": "4c0135e6-8a16-4e58-f849-fbfd45628a7c"
      },
      "execution_count": 25,
      "outputs": [
        {
          "output_type": "execute_result",
          "data": {
            "text/plain": [
              "0      [tempered older sister, popular teenager, pret...\n",
              "2      [steal dalmatian puppies, fashion designer plo...\n",
              "3      [accidentally left behind, publicity campaign,...\n",
              "4            [cruella devil gets, puppies, prison, goes]\n",
              "5      [horrible blind date, young woman, follows kat...\n",
              "                             ...                        \n",
              "987    [new life, mom remarries, hard adjusting, zoey...\n",
              "988    [suspected dodgy dealings, space station home,...\n",
              "989    [space station helps, old girl living, mischie...\n",
              "990    [important competition, heroine sets, win, suc...\n",
              "991    [cynical con artist fox must work together, ro...\n",
              "Name: keywords, Length: 655, dtype: object"
            ]
          },
          "metadata": {},
          "execution_count": 25
        }
      ]
    },
    {
      "cell_type": "markdown",
      "source": [
        "**G**enre + **D**irector + **K**eywords + **A**ctors = **gdka**"
      ],
      "metadata": {
        "id": "S_nEPyI-Adb7"
      }
    },
    {
      "cell_type": "code",
      "source": [
        "gdka = shows[['imdb_id', 'title', 'genre', 'director', 'keywords', 'actors']]"
      ],
      "metadata": {
        "id": "p1AO-vKDXd-I"
      },
      "execution_count": 26,
      "outputs": []
    },
    {
      "cell_type": "code",
      "source": [
        "# Extracting all genre into the list\n",
        "gdka['genre'] = gdka['genre'].map(lambda x: x.split(','))\n",
        "# Since there are so many actors on screen, we only add up the first three into the list\n",
        "gdka['actors'] = gdka['actors'].map(lambda x: x.split(',')[:3])\n",
        "# Extracting all genre into the list\n",
        "gdka['director'] = gdka['director'].map(lambda x: x.split(','))\n",
        "\n",
        "# By combining the first and last names into one word and converting it to lowercase\n",
        "# we can establish unique identification names.\n",
        "for index, row in gdka.iterrows():\n",
        "    row['genre'] = [x.lower().replace(' ','') for x in row['genre']]\n",
        "    row['actors'] = [x.lower().replace(' ','') for x in row['actors']]\n",
        "    row['director'] = [x.lower().replace(' ','') for x in row['director']]\n",
        "gdka"
      ],
      "metadata": {
        "colab": {
          "base_uri": "https://localhost:8080/",
          "height": 641
        },
        "id": "oKGsIf74ARyV",
        "outputId": "50b77504-c326-4364-992d-ce86dcd486bb"
      },
      "execution_count": 27,
      "outputs": [
        {
          "output_type": "execute_result",
          "data": {
            "text/plain": [
              "       imdb_id                                       title  \\\n",
              "0    tt0147800                  10 Things I Hate About You   \n",
              "2    tt0115433                              101 Dalmatians   \n",
              "3    tt0324941  101 Dalmatians 2: Patch's London Adventure   \n",
              "4    tt0211181                              102 Dalmatians   \n",
              "5    tt1846442                       12 Dates of Christmas   \n",
              "..         ...                                         ...   \n",
              "987  tt3544734                                      Zapped   \n",
              "988  tt0186726             Zenon: Girl of the 21st Century   \n",
              "989  tt0271271                           Zenon: The Zequel   \n",
              "990  tt0379060                                   Zenon: Z3   \n",
              "991  tt2948356                                    Zootopia   \n",
              "\n",
              "                                                 genre  \\\n",
              "0                             [comedy, drama, romance]   \n",
              "2                   [adventure, comedy, crime, family]   \n",
              "3      [animation, adventure, comedy, family, musical]   \n",
              "4                          [adventure, comedy, family]   \n",
              "5                           [comedy, fantasy, romance]   \n",
              "..                                                 ...   \n",
              "987                          [comedy, family, fantasy]   \n",
              "988                [adventure, comedy, family, sci-fi]   \n",
              "989                [comedy, family, adventure, sci-fi]   \n",
              "990                [adventure, comedy, family, sci-fi]   \n",
              "991  [animation, adventure, comedy, crime, family, ...   \n",
              "\n",
              "                                             director  \\\n",
              "0                                         [giljunger]   \n",
              "2                                      [stephenherek]   \n",
              "3                           [jimkammerud, briansmith]   \n",
              "4                                         [kevinlima]   \n",
              "5                                       [jameshayman]   \n",
              "..                                                ...   \n",
              "987                                    [peterdeluise]   \n",
              "988                                  [kennethjohnson]   \n",
              "989                                       [mannycoto]   \n",
              "990                                       [steverash]   \n",
              "991  [byronhoward, richmoore, jaredbush(co-director)]   \n",
              "\n",
              "                                              keywords  \\\n",
              "0    [tempered older sister, popular teenager, pret...   \n",
              "2    [steal dalmatian puppies, fashion designer plo...   \n",
              "3    [accidentally left behind, publicity campaign,...   \n",
              "4          [cruella devil gets, puppies, prison, goes]   \n",
              "5    [horrible blind date, young woman, follows kat...   \n",
              "..                                                 ...   \n",
              "987  [new life, mom remarries, hard adjusting, zoey...   \n",
              "988  [suspected dodgy dealings, space station home,...   \n",
              "989  [space station helps, old girl living, mischie...   \n",
              "990  [important competition, heroine sets, win, suc...   \n",
              "991  [cynical con artist fox must work together, ro...   \n",
              "\n",
              "                                              actors  \n",
              "0    [heathledger, juliastiles, josephgordon-levitt]  \n",
              "2         [glennclose, jeffdaniels, joelyrichardson]  \n",
              "3       [barrybostwick, jasonalexander, martinshort]  \n",
              "4        [glennclose, gérarddepardieu, ioangruffudd]  \n",
              "5                [lauramiyata, vijaymehta, amysmart]  \n",
              "..                                               ...  \n",
              "987        [zendaya, chanellepeloso, spencerboldman]  \n",
              "988      [kirstenstorms, raven-symoné, stuartpankin]  \n",
              "989     [kirstenstorms, shadiasimmons, laurenmaltby]  \n",
              "990      [kirstenstorms, laurenmaltby, alysonmorgan]  \n",
              "991       [ginnifergoodwin, jasonbateman, idriselba]  \n",
              "\n",
              "[655 rows x 6 columns]"
            ],
            "text/html": [
              "\n",
              "  <div id=\"df-d7933c0c-d37e-4ee1-a7ac-b5e89c9cceb7\">\n",
              "    <div class=\"colab-df-container\">\n",
              "      <div>\n",
              "<style scoped>\n",
              "    .dataframe tbody tr th:only-of-type {\n",
              "        vertical-align: middle;\n",
              "    }\n",
              "\n",
              "    .dataframe tbody tr th {\n",
              "        vertical-align: top;\n",
              "    }\n",
              "\n",
              "    .dataframe thead th {\n",
              "        text-align: right;\n",
              "    }\n",
              "</style>\n",
              "<table border=\"1\" class=\"dataframe\">\n",
              "  <thead>\n",
              "    <tr style=\"text-align: right;\">\n",
              "      <th></th>\n",
              "      <th>imdb_id</th>\n",
              "      <th>title</th>\n",
              "      <th>genre</th>\n",
              "      <th>director</th>\n",
              "      <th>keywords</th>\n",
              "      <th>actors</th>\n",
              "    </tr>\n",
              "  </thead>\n",
              "  <tbody>\n",
              "    <tr>\n",
              "      <th>0</th>\n",
              "      <td>tt0147800</td>\n",
              "      <td>10 Things I Hate About You</td>\n",
              "      <td>[comedy, drama, romance]</td>\n",
              "      <td>[giljunger]</td>\n",
              "      <td>[tempered older sister, popular teenager, pret...</td>\n",
              "      <td>[heathledger, juliastiles, josephgordon-levitt]</td>\n",
              "    </tr>\n",
              "    <tr>\n",
              "      <th>2</th>\n",
              "      <td>tt0115433</td>\n",
              "      <td>101 Dalmatians</td>\n",
              "      <td>[adventure, comedy, crime, family]</td>\n",
              "      <td>[stephenherek]</td>\n",
              "      <td>[steal dalmatian puppies, fashion designer plo...</td>\n",
              "      <td>[glennclose, jeffdaniels, joelyrichardson]</td>\n",
              "    </tr>\n",
              "    <tr>\n",
              "      <th>3</th>\n",
              "      <td>tt0324941</td>\n",
              "      <td>101 Dalmatians 2: Patch's London Adventure</td>\n",
              "      <td>[animation, adventure, comedy, family, musical]</td>\n",
              "      <td>[jimkammerud, briansmith]</td>\n",
              "      <td>[accidentally left behind, publicity campaign,...</td>\n",
              "      <td>[barrybostwick, jasonalexander, martinshort]</td>\n",
              "    </tr>\n",
              "    <tr>\n",
              "      <th>4</th>\n",
              "      <td>tt0211181</td>\n",
              "      <td>102 Dalmatians</td>\n",
              "      <td>[adventure, comedy, family]</td>\n",
              "      <td>[kevinlima]</td>\n",
              "      <td>[cruella devil gets, puppies, prison, goes]</td>\n",
              "      <td>[glennclose, gérarddepardieu, ioangruffudd]</td>\n",
              "    </tr>\n",
              "    <tr>\n",
              "      <th>5</th>\n",
              "      <td>tt1846442</td>\n",
              "      <td>12 Dates of Christmas</td>\n",
              "      <td>[comedy, fantasy, romance]</td>\n",
              "      <td>[jameshayman]</td>\n",
              "      <td>[horrible blind date, young woman, follows kat...</td>\n",
              "      <td>[lauramiyata, vijaymehta, amysmart]</td>\n",
              "    </tr>\n",
              "    <tr>\n",
              "      <th>...</th>\n",
              "      <td>...</td>\n",
              "      <td>...</td>\n",
              "      <td>...</td>\n",
              "      <td>...</td>\n",
              "      <td>...</td>\n",
              "      <td>...</td>\n",
              "    </tr>\n",
              "    <tr>\n",
              "      <th>987</th>\n",
              "      <td>tt3544734</td>\n",
              "      <td>Zapped</td>\n",
              "      <td>[comedy, family, fantasy]</td>\n",
              "      <td>[peterdeluise]</td>\n",
              "      <td>[new life, mom remarries, hard adjusting, zoey...</td>\n",
              "      <td>[zendaya, chanellepeloso, spencerboldman]</td>\n",
              "    </tr>\n",
              "    <tr>\n",
              "      <th>988</th>\n",
              "      <td>tt0186726</td>\n",
              "      <td>Zenon: Girl of the 21st Century</td>\n",
              "      <td>[adventure, comedy, family, sci-fi]</td>\n",
              "      <td>[kennethjohnson]</td>\n",
              "      <td>[suspected dodgy dealings, space station home,...</td>\n",
              "      <td>[kirstenstorms, raven-symoné, stuartpankin]</td>\n",
              "    </tr>\n",
              "    <tr>\n",
              "      <th>989</th>\n",
              "      <td>tt0271271</td>\n",
              "      <td>Zenon: The Zequel</td>\n",
              "      <td>[comedy, family, adventure, sci-fi]</td>\n",
              "      <td>[mannycoto]</td>\n",
              "      <td>[space station helps, old girl living, mischie...</td>\n",
              "      <td>[kirstenstorms, shadiasimmons, laurenmaltby]</td>\n",
              "    </tr>\n",
              "    <tr>\n",
              "      <th>990</th>\n",
              "      <td>tt0379060</td>\n",
              "      <td>Zenon: Z3</td>\n",
              "      <td>[adventure, comedy, family, sci-fi]</td>\n",
              "      <td>[steverash]</td>\n",
              "      <td>[important competition, heroine sets, win, suc...</td>\n",
              "      <td>[kirstenstorms, laurenmaltby, alysonmorgan]</td>\n",
              "    </tr>\n",
              "    <tr>\n",
              "      <th>991</th>\n",
              "      <td>tt2948356</td>\n",
              "      <td>Zootopia</td>\n",
              "      <td>[animation, adventure, comedy, crime, family, ...</td>\n",
              "      <td>[byronhoward, richmoore, jaredbush(co-director)]</td>\n",
              "      <td>[cynical con artist fox must work together, ro...</td>\n",
              "      <td>[ginnifergoodwin, jasonbateman, idriselba]</td>\n",
              "    </tr>\n",
              "  </tbody>\n",
              "</table>\n",
              "<p>655 rows × 6 columns</p>\n",
              "</div>\n",
              "      <button class=\"colab-df-convert\" onclick=\"convertToInteractive('df-d7933c0c-d37e-4ee1-a7ac-b5e89c9cceb7')\"\n",
              "              title=\"Convert this dataframe to an interactive table.\"\n",
              "              style=\"display:none;\">\n",
              "        \n",
              "  <svg xmlns=\"http://www.w3.org/2000/svg\" height=\"24px\"viewBox=\"0 0 24 24\"\n",
              "       width=\"24px\">\n",
              "    <path d=\"M0 0h24v24H0V0z\" fill=\"none\"/>\n",
              "    <path d=\"M18.56 5.44l.94 2.06.94-2.06 2.06-.94-2.06-.94-.94-2.06-.94 2.06-2.06.94zm-11 1L8.5 8.5l.94-2.06 2.06-.94-2.06-.94L8.5 2.5l-.94 2.06-2.06.94zm10 10l.94 2.06.94-2.06 2.06-.94-2.06-.94-.94-2.06-.94 2.06-2.06.94z\"/><path d=\"M17.41 7.96l-1.37-1.37c-.4-.4-.92-.59-1.43-.59-.52 0-1.04.2-1.43.59L10.3 9.45l-7.72 7.72c-.78.78-.78 2.05 0 2.83L4 21.41c.39.39.9.59 1.41.59.51 0 1.02-.2 1.41-.59l7.78-7.78 2.81-2.81c.8-.78.8-2.07 0-2.86zM5.41 20L4 18.59l7.72-7.72 1.47 1.35L5.41 20z\"/>\n",
              "  </svg>\n",
              "      </button>\n",
              "      \n",
              "  <style>\n",
              "    .colab-df-container {\n",
              "      display:flex;\n",
              "      flex-wrap:wrap;\n",
              "      gap: 12px;\n",
              "    }\n",
              "\n",
              "    .colab-df-convert {\n",
              "      background-color: #E8F0FE;\n",
              "      border: none;\n",
              "      border-radius: 50%;\n",
              "      cursor: pointer;\n",
              "      display: none;\n",
              "      fill: #1967D2;\n",
              "      height: 32px;\n",
              "      padding: 0 0 0 0;\n",
              "      width: 32px;\n",
              "    }\n",
              "\n",
              "    .colab-df-convert:hover {\n",
              "      background-color: #E2EBFA;\n",
              "      box-shadow: 0px 1px 2px rgba(60, 64, 67, 0.3), 0px 1px 3px 1px rgba(60, 64, 67, 0.15);\n",
              "      fill: #174EA6;\n",
              "    }\n",
              "\n",
              "    [theme=dark] .colab-df-convert {\n",
              "      background-color: #3B4455;\n",
              "      fill: #D2E3FC;\n",
              "    }\n",
              "\n",
              "    [theme=dark] .colab-df-convert:hover {\n",
              "      background-color: #434B5C;\n",
              "      box-shadow: 0px 1px 3px 1px rgba(0, 0, 0, 0.15);\n",
              "      filter: drop-shadow(0px 1px 2px rgba(0, 0, 0, 0.3));\n",
              "      fill: #FFFFFF;\n",
              "    }\n",
              "  </style>\n",
              "\n",
              "      <script>\n",
              "        const buttonEl =\n",
              "          document.querySelector('#df-d7933c0c-d37e-4ee1-a7ac-b5e89c9cceb7 button.colab-df-convert');\n",
              "        buttonEl.style.display =\n",
              "          google.colab.kernel.accessAllowed ? 'block' : 'none';\n",
              "\n",
              "        async function convertToInteractive(key) {\n",
              "          const element = document.querySelector('#df-d7933c0c-d37e-4ee1-a7ac-b5e89c9cceb7');\n",
              "          const dataTable =\n",
              "            await google.colab.kernel.invokeFunction('convertToInteractive',\n",
              "                                                     [key], {});\n",
              "          if (!dataTable) return;\n",
              "\n",
              "          const docLinkHtml = 'Like what you see? Visit the ' +\n",
              "            '<a target=\"_blank\" href=https://colab.research.google.com/notebooks/data_table.ipynb>data table notebook</a>'\n",
              "            + ' to learn more about interactive tables.';\n",
              "          element.innerHTML = '';\n",
              "          dataTable['output_type'] = 'display_data';\n",
              "          await google.colab.output.renderOutput(dataTable, element);\n",
              "          const docLink = document.createElement('div');\n",
              "          docLink.innerHTML = docLinkHtml;\n",
              "          element.appendChild(docLink);\n",
              "        }\n",
              "      </script>\n",
              "    </div>\n",
              "  </div>\n",
              "  "
            ]
          },
          "metadata": {},
          "execution_count": 27
        }
      ]
    },
    {
      "cell_type": "markdown",
      "source": [
        "\n",
        "\n",
        "**I 💗 clean code** \n",
        "\n",
        "\n",
        "Let's clean our data\n",
        "\n"
      ],
      "metadata": {
        "id": "IC2REYEQuBhE"
      }
    },
    {
      "cell_type": "code",
      "source": [
        "#function \n",
        "def clean_code(x):\n",
        "    if isinstance(x, list):\n",
        "        #Strip spaces and convert to lowercase\n",
        "        return [str.lower(i.replace(\" \", \"\")) for i in x]\n",
        "    else:\n",
        "        #Check if it exists. If not, return empty string\n",
        "        if isinstance(x, str):\n",
        "            return str.lower(x.replace(\" \", \"\"))\n",
        "        else:\n",
        "            return ''"
      ],
      "metadata": {
        "id": "a4GsutOZYJ16"
      },
      "execution_count": 28,
      "outputs": []
    },
    {
      "cell_type": "code",
      "source": [
        "features = ['keywords', 'actors', 'director', 'genre']\n",
        "for feature in features:\n",
        "  gdka[feature] = gdka[feature].apply(clean_code)"
      ],
      "metadata": {
        "id": "pJKXrKPOYLkC"
      },
      "execution_count": 29,
      "outputs": []
    },
    {
      "cell_type": "code",
      "source": [
        "gdka['keywords'] = gdka['keywords'].agg(lambda x: ','.join(map(str, x)))\n",
        "gdka['keywords'] = gdka['keywords'].str.replace(',','')"
      ],
      "metadata": {
        "id": "ByrgIfFynkbN"
      },
      "execution_count": 30,
      "outputs": []
    },
    {
      "cell_type": "code",
      "source": [
        " # Filling all the Null value to empty string\n",
        "for f in features:\n",
        "    gdka[f] = gdka[f].fillna('')"
      ],
      "metadata": {
        "id": "k2ZxsGfsmPJZ"
      },
      "execution_count": 31,
      "outputs": []
    },
    {
      "cell_type": "code",
      "source": [
        "#This function will collect all -> genre + director + keywords + actors\n",
        "def bunchUp(row):\n",
        "    return str(row['genre']) + \" \" + str(row['director']) + \" \" + str(row['keywords']) + \" \" + str(row['actors']) \n",
        "gdka['bunchUp'] = gdka.apply(bunchUp, axis = 1)"
      ],
      "metadata": {
        "id": "dq5wuhQzmUMx"
      },
      "execution_count": 32,
      "outputs": []
    },
    {
      "cell_type": "code",
      "source": [
        "gdka['bunchUp'] = gdka['bunchUp'].str.replace(',','')"
      ],
      "metadata": {
        "id": "rFaL7xsBqmeI"
      },
      "execution_count": 33,
      "outputs": []
    },
    {
      "cell_type": "code",
      "source": [
        "gdka['bunchUp']"
      ],
      "metadata": {
        "colab": {
          "base_uri": "https://localhost:8080/"
        },
        "id": "PJz0SlTomzjm",
        "outputId": "6589100c-81d5-4231-8083-dedff07d3166"
      },
      "execution_count": 34,
      "outputs": [
        {
          "output_type": "execute_result",
          "data": {
            "text/plain": [
              "0      ['comedy' 'drama' 'romance'] ['giljunger'] tem...\n",
              "2      ['adventure' 'comedy' 'crime' 'family'] ['step...\n",
              "3      ['animation' 'adventure' 'comedy' 'family' 'mu...\n",
              "4      ['adventure' 'comedy' 'family'] ['kevinlima'] ...\n",
              "5      ['comedy' 'fantasy' 'romance'] ['jameshayman']...\n",
              "                             ...                        \n",
              "987    ['comedy' 'family' 'fantasy'] ['peterdeluise']...\n",
              "988    ['adventure' 'comedy' 'family' 'sci-fi'] ['ken...\n",
              "989    ['comedy' 'family' 'adventure' 'sci-fi'] ['man...\n",
              "990    ['adventure' 'comedy' 'family' 'sci-fi'] ['ste...\n",
              "991    ['animation' 'adventure' 'comedy' 'crime' 'fam...\n",
              "Name: bunchUp, Length: 655, dtype: object"
            ]
          },
          "metadata": {},
          "execution_count": 34
        }
      ]
    },
    {
      "cell_type": "markdown",
      "source": [
        "We then apply two Scikit-learn concepts.\n",
        "1.   Count Vectorizer\n",
        "2.   Cosine Similarity\n",
        "\n",
        "Scikit-learn is a free software machine learning library for the Python programming language. For more information about Scikit-learn, check out https://scikit-learn.org/stable/\n",
        "\n",
        "For each movie, we'll calculate pairwise similarity scores. The cosine similarity will be used to create a numerical value that represents the similarity between two shows.\n",
        "\\begin{equation}\n",
        "\\cos ({\\bf t},{\\bf e})= {{\\bf t} {\\bf e} \\over \\|{\\bf t}\\| \\|{\\bf e}\\|} = \\frac{ \\sum_{i=1}^{n}{{\\bf t}_i{\\bf e}_i} }{ \\sqrt{\\sum_{i=1}^{n}{({\\bf t}_i)^2}} \\sqrt{\\sum_{i=1}^{n}{({\\bf e}_i)^2}} }\n",
        "\\end{equation}\n",
        "\n",
        "CountVectorizer is used to convert a given text into a vector based on the frequency (count) of each word that appears in the full text."
      ],
      "metadata": {
        "id": "pQFGDlhdyyFB"
      }
    },
    {
      "cell_type": "code",
      "source": [
        "from sklearn.metrics.pairwise import cosine_similarity\n",
        "from sklearn.feature_extraction.text import CountVectorizer"
      ],
      "metadata": {
        "id": "NW8kGWcPEC39"
      },
      "execution_count": 35,
      "outputs": []
    },
    {
      "cell_type": "code",
      "source": [
        "cv = CountVectorizer()\n",
        "count_matrix = cv.fit_transform(gdka['bunchUp'])\n",
        "cosine_sim = cosine_similarity(count_matrix)"
      ],
      "metadata": {
        "id": "-qW7PddDrISs"
      },
      "execution_count": 36,
      "outputs": []
    },
    {
      "cell_type": "code",
      "source": [
        "cosine_sim"
      ],
      "metadata": {
        "colab": {
          "base_uri": "https://localhost:8080/"
        },
        "id": "f7z4KtVarOXM",
        "outputId": "493dc10e-83c8-46e7-e231-7d86ca62fbba"
      },
      "execution_count": 37,
      "outputs": [
        {
          "output_type": "execute_result",
          "data": {
            "text/plain": [
              "array([[1.        , 0.11111111, 0.10050378, ..., 0.10540926, 0.10540926,\n",
              "        0.0860663 ],\n",
              "       [0.11111111, 1.        , 0.30151134, ..., 0.31622777, 0.31622777,\n",
              "        0.34426519],\n",
              "       [0.10050378, 0.30151134, 1.        , ..., 0.28603878, 0.28603878,\n",
              "        0.31139958],\n",
              "       ...,\n",
              "       [0.10540926, 0.31622777, 0.28603878, ..., 1.        , 0.7       ,\n",
              "        0.24494897],\n",
              "       [0.10540926, 0.31622777, 0.28603878, ..., 0.7       , 1.        ,\n",
              "        0.24494897],\n",
              "       [0.0860663 , 0.34426519, 0.31139958, ..., 0.24494897, 0.24494897,\n",
              "        1.        ]])"
            ]
          },
          "metadata": {},
          "execution_count": 37
        }
      ]
    },
    {
      "cell_type": "code",
      "source": [
        "# to generate the count matrix\n",
        "count = CountVectorizer()\n",
        "count_matrix = count.fit_transform(gdka['bunchUp'])\n",
        "count_matrix"
      ],
      "metadata": {
        "colab": {
          "base_uri": "https://localhost:8080/"
        },
        "id": "SixidU0QBYB1",
        "outputId": "d4b160d8-80ba-43d6-cea1-ec947b6d1839"
      },
      "execution_count": 38,
      "outputs": [
        {
          "output_type": "execute_result",
          "data": {
            "text/plain": [
              "<655x2553 sparse matrix of type '<class 'numpy.int64'>'\n",
              "\twith 6231 stored elements in Compressed Sparse Row format>"
            ]
          },
          "metadata": {},
          "execution_count": 38
        }
      ]
    },
    {
      "cell_type": "markdown",
      "source": [
        "Fun Facts: \n",
        "\n",
        "👉 Because each show is identical to itself, all the numbers on the diagonal are 1.\n",
        "\n",
        "👉 Because the similarity between A and B is the same as the similarity between B and A, the matrix is symmetrical.\n"
      ],
      "metadata": {
        "id": "yEVIOCQC35yI"
      }
    },
    {
      "cell_type": "code",
      "source": [
        "#generating the cosine similarity matrix \n",
        "cosine_sim = cosine_similarity(count_matrix, count_matrix)\n",
        "print(cosine_sim)"
      ],
      "metadata": {
        "colab": {
          "base_uri": "https://localhost:8080/"
        },
        "id": "rj0Bg4GoBofj",
        "outputId": "d2b57c8a-bbaf-4f45-b12e-bfdec49b4763"
      },
      "execution_count": 39,
      "outputs": [
        {
          "output_type": "stream",
          "name": "stdout",
          "text": [
            "[[1.         0.11111111 0.10050378 ... 0.10540926 0.10540926 0.0860663 ]\n",
            " [0.11111111 1.         0.30151134 ... 0.31622777 0.31622777 0.34426519]\n",
            " [0.10050378 0.30151134 1.         ... 0.28603878 0.28603878 0.31139958]\n",
            " ...\n",
            " [0.10540926 0.31622777 0.28603878 ... 1.         0.7        0.24494897]\n",
            " [0.10540926 0.31622777 0.28603878 ... 0.7        1.         0.24494897]\n",
            " [0.0860663  0.34426519 0.31139958 ... 0.24494897 0.24494897 1.        ]]\n"
          ]
        }
      ]
    },
    {
      "cell_type": "code",
      "source": [
        "gdka.reset_index(inplace=True)"
      ],
      "metadata": {
        "id": "unHtRMJ5eE7a"
      },
      "execution_count": 40,
      "outputs": []
    },
    {
      "cell_type": "code",
      "source": [
        "# creating a Series for show titles which can be used as indices (each index is mapped to a show title)\n",
        "indices = pd.Series(gdka['title'])\n",
        "indices[:5]"
      ],
      "metadata": {
        "colab": {
          "base_uri": "https://localhost:8080/"
        },
        "id": "_FIiO1zbBtRg",
        "outputId": "0bf4b85b-a48f-4cd8-f686-803e0d12b525"
      },
      "execution_count": 41,
      "outputs": [
        {
          "output_type": "execute_result",
          "data": {
            "text/plain": [
              "0                    10 Things I Hate About You\n",
              "1                                101 Dalmatians\n",
              "2    101 Dalmatians 2: Patch's London Adventure\n",
              "3                                102 Dalmatians\n",
              "4                         12 Dates of Christmas\n",
              "Name: title, dtype: object"
            ]
          },
          "metadata": {},
          "execution_count": 41
        }
      ]
    },
    {
      "cell_type": "code",
      "source": [
        "# this function takes in a movie title as input and returns the top 15 recommended (similar) shows\n",
        "\n",
        "def recommend(title, cosine_sim = cosine_sim):\n",
        "    recommended_movies = []\n",
        "    recommended_posters = []\n",
        "    idx = indices[indices == title].index[0]   # to get the index of the show title matching the input movie\n",
        "    score_series = pd.Series(cosine_sim[idx]).sort_values(ascending = False)   # similarity scores in descending order\n",
        "    top_15_indices = list(score_series.iloc[1:16].index)   \n",
        "    # [1:16] to exclude 0 (index 0 is the input movie itself)\n",
        "    \n",
        "    for i in top_15_indices:   # to append the titles of top 15 similar shows \n",
        "        recommended_movies.append(list(gdka['title'])[i])\n",
        "        \n",
        "    return recommended_movies\n"
      ],
      "metadata": {
        "id": "_n2zReOkB1Rh"
      },
      "execution_count": 42,
      "outputs": []
    },
    {
      "cell_type": "code",
      "source": [
        "recommend(\"A Bug's Life\")"
      ],
      "metadata": {
        "colab": {
          "base_uri": "https://localhost:8080/"
        },
        "id": "RI9Bt9k9CTk9",
        "outputId": "42a68f9a-a058-44a1-bb90-b463f38e5632"
      },
      "execution_count": 43,
      "outputs": [
        {
          "output_type": "execute_result",
          "data": {
            "text/plain": [
              "['El Materdor',\n",
              " 'Finding Nemo',\n",
              " 'Toy Story 2',\n",
              " 'Cars 2',\n",
              " 'Finding Dory',\n",
              " 'Rescue Squad Mater',\n",
              " 'Tokyo Mater',\n",
              " 'Onward',\n",
              " 'Monsters, Inc.',\n",
              " 'Cars',\n",
              " 'Up',\n",
              " 'Moana',\n",
              " 'Ice Age',\n",
              " 'Mater and the Ghostlight',\n",
              " 'Brave']"
            ]
          },
          "metadata": {},
          "execution_count": 43
        }
      ]
    },
    {
      "cell_type": "code",
      "source": [
        "recommend(\"Zootopia\")"
      ],
      "metadata": {
        "id": "V8H7-AZUeM44",
        "outputId": "11f2c0bf-fd09-423e-e08e-ec798fcad06b",
        "colab": {
          "base_uri": "https://localhost:8080/"
        }
      },
      "execution_count": 44,
      "outputs": [
        {
          "output_type": "execute_result",
          "data": {
            "text/plain": [
              "['El Materdor',\n",
              " 'Toy Story 2',\n",
              " 'Monsters, Inc.',\n",
              " 'Up',\n",
              " 'Finding Nemo',\n",
              " 'Tokyo Mater',\n",
              " 'Rescue Squad Mater',\n",
              " 'Moana',\n",
              " 'Ice Age',\n",
              " 'Finding Dory',\n",
              " \"A Bug's Life\",\n",
              " 'Who Framed Roger Rabbit',\n",
              " 'Cars 2',\n",
              " 'Inside Out',\n",
              " 'Ratatouille']"
            ]
          },
          "metadata": {},
          "execution_count": 44
        }
      ]
    },
    {
      "cell_type": "markdown",
      "source": [
        "# ***Bidirectional Encoder Representations from Transformers (BERT) model:***\n",
        "\n",
        "The weights of the pre-trained BERT model are used via feature extraction in the transfer learning technique, and the model is further trained on our dataset.\n",
        "The hugging face transformers package is used to load the BERT model. We use **BERT-Distilled BERT**, which is lighter and faster."
      ],
      "metadata": {
        "id": "UIRVUkdX6E60"
      }
    },
    {
      "cell_type": "code",
      "source": [
        "bert = shows[['imdb_id', 'title', 'genre', 'director', 'keywords', 'actors', 'plot']]"
      ],
      "metadata": {
        "id": "btzXzJqwt7WK"
      },
      "execution_count": 45,
      "outputs": []
    },
    {
      "cell_type": "code",
      "source": [
        "#Installing HuggingFace Transformers framework \n",
        "!pip install transformers "
      ],
      "metadata": {
        "id": "zOVTs_CvDAvS",
        "colab": {
          "base_uri": "https://localhost:8080/"
        },
        "outputId": "10fd0d9b-5ceb-4b7b-fb32-a070ac7380e3"
      },
      "execution_count": 46,
      "outputs": [
        {
          "output_type": "stream",
          "name": "stdout",
          "text": [
            "Looking in indexes: https://pypi.org/simple, https://us-python.pkg.dev/colab-wheels/public/simple/\n",
            "Collecting transformers\n",
            "  Downloading transformers-4.19.2-py3-none-any.whl (4.2 MB)\n",
            "\u001b[K     |████████████████████████████████| 4.2 MB 5.3 MB/s \n",
            "\u001b[?25hCollecting pyyaml>=5.1\n",
            "  Downloading PyYAML-6.0-cp37-cp37m-manylinux_2_5_x86_64.manylinux1_x86_64.manylinux_2_12_x86_64.manylinux2010_x86_64.whl (596 kB)\n",
            "\u001b[K     |████████████████████████████████| 596 kB 55.8 MB/s \n",
            "\u001b[?25hRequirement already satisfied: requests in /usr/local/lib/python3.7/dist-packages (from transformers) (2.23.0)\n",
            "Requirement already satisfied: importlib-metadata in /usr/local/lib/python3.7/dist-packages (from transformers) (4.11.3)\n",
            "Requirement already satisfied: numpy>=1.17 in /usr/local/lib/python3.7/dist-packages (from transformers) (1.21.6)\n",
            "Requirement already satisfied: regex!=2019.12.17 in /usr/local/lib/python3.7/dist-packages (from transformers) (2022.4.24)\n",
            "Collecting huggingface-hub<1.0,>=0.1.0\n",
            "  Downloading huggingface_hub-0.7.0-py3-none-any.whl (86 kB)\n",
            "\u001b[K     |████████████████████████████████| 86 kB 4.9 MB/s \n",
            "\u001b[?25hCollecting tokenizers!=0.11.3,<0.13,>=0.11.1\n",
            "  Downloading tokenizers-0.12.1-cp37-cp37m-manylinux_2_12_x86_64.manylinux2010_x86_64.whl (6.6 MB)\n",
            "\u001b[K     |████████████████████████████████| 6.6 MB 40.8 MB/s \n",
            "\u001b[?25hRequirement already satisfied: tqdm>=4.27 in /usr/local/lib/python3.7/dist-packages (from transformers) (4.64.0)\n",
            "Requirement already satisfied: packaging>=20.0 in /usr/local/lib/python3.7/dist-packages (from transformers) (21.3)\n",
            "Requirement already satisfied: filelock in /usr/local/lib/python3.7/dist-packages (from transformers) (3.7.0)\n",
            "Requirement already satisfied: typing-extensions>=3.7.4.3 in /usr/local/lib/python3.7/dist-packages (from huggingface-hub<1.0,>=0.1.0->transformers) (4.2.0)\n",
            "Requirement already satisfied: pyparsing!=3.0.5,>=2.0.2 in /usr/local/lib/python3.7/dist-packages (from packaging>=20.0->transformers) (3.0.9)\n",
            "Requirement already satisfied: zipp>=0.5 in /usr/local/lib/python3.7/dist-packages (from importlib-metadata->transformers) (3.8.0)\n",
            "Requirement already satisfied: chardet<4,>=3.0.2 in /usr/local/lib/python3.7/dist-packages (from requests->transformers) (3.0.4)\n",
            "Requirement already satisfied: urllib3!=1.25.0,!=1.25.1,<1.26,>=1.21.1 in /usr/local/lib/python3.7/dist-packages (from requests->transformers) (1.24.3)\n",
            "Requirement already satisfied: certifi>=2017.4.17 in /usr/local/lib/python3.7/dist-packages (from requests->transformers) (2022.5.18.1)\n",
            "Requirement already satisfied: idna<3,>=2.5 in /usr/local/lib/python3.7/dist-packages (from requests->transformers) (2.10)\n",
            "Installing collected packages: pyyaml, tokenizers, huggingface-hub, transformers\n",
            "  Attempting uninstall: pyyaml\n",
            "    Found existing installation: PyYAML 3.13\n",
            "    Uninstalling PyYAML-3.13:\n",
            "      Successfully uninstalled PyYAML-3.13\n",
            "Successfully installed huggingface-hub-0.7.0 pyyaml-6.0 tokenizers-0.12.1 transformers-4.19.2\n"
          ]
        }
      ]
    },
    {
      "cell_type": "code",
      "source": [
        "import torch"
      ],
      "metadata": {
        "id": "rcHYBigNDdET"
      },
      "execution_count": 47,
      "outputs": []
    },
    {
      "cell_type": "code",
      "source": [
        "import transformers"
      ],
      "metadata": {
        "id": "96C8mq7_DgBU"
      },
      "execution_count": 48,
      "outputs": []
    },
    {
      "cell_type": "code",
      "source": [
        "#using the DistilBERT model from transformers\n",
        "bert_model=transformers.DistilBertModel\n",
        "\n",
        "#End-to-end tokenization for punctuation and word piece, similar to BERT Tokenizer.\n",
        "berttokenizer=transformers.DistilBertTokenizer\n",
        "\n",
        "#This model is uncased, which means it does not differentiate between english and English.\n",
        "weights_type=\"distilbert-base-uncased\""
      ],
      "metadata": {
        "id": "9DO6j6E3DkOm"
      },
      "execution_count": 49,
      "outputs": []
    },
    {
      "cell_type": "code",
      "source": [
        "from transformers import logging\n",
        "logging.set_verbosity_error()"
      ],
      "metadata": {
        "id": "cM7l8JFAFPmN"
      },
      "execution_count": 50,
      "outputs": []
    },
    {
      "cell_type": "code",
      "source": [
        "# Loading pretrained model/tokenizer\n",
        "tokenizer=berttokenizer.from_pretrained(weights_type)\n",
        "model=bert_model.from_pretrained(weights_type)"
      ],
      "metadata": {
        "id": "u6-Etz-VDpM8",
        "colab": {
          "base_uri": "https://localhost:8080/",
          "height": 145,
          "referenced_widgets": [
            "2fa4b130339447aab7b0003fb2234e75",
            "964a505a4c9c408dbdc9eb966be13152",
            "2712bccca4db4a919649edb02b1e8d21",
            "2672b8d7284946a5b9c53a6eae4d8735",
            "604a216b5c5b4da28cad3ef6a1ffeceb",
            "7e5374a9dcdb49e58202806475d61315",
            "bf56e05ef9fc45a883b55c79f999e981",
            "30515610b6d5464abf6e54b38aea071d",
            "1a5e2d1e7ec84d8cb78760dedeaf61b1",
            "ba810e70f578478d846592db77a83bfc",
            "05d35a509a45440f9b441a15aa205475",
            "05705d03043d4c9cbd3dffe0f61eea54",
            "303b9f796d0d41cd896a2c4eda4a1f4f",
            "5b185751b306433e8994fcd83acd0b54",
            "f6659fc00cd440f084366019732d13e4",
            "5203a1cdf5b247d9a0948d83510bda7a",
            "e0cdd9a152e440598a5a837bf1042c44",
            "782997fd000041d3916546fd60b8ac0e",
            "c30f2e839c3c4f3299a3d675a9641b95",
            "e3ea921fd4ee4800b3e089fa90393e1e",
            "f12a18a9b5974e10b1739f8daa09cb58",
            "aa4958d5ee1d4d77b3b72274c120980d",
            "7d23ffbcde234efcbd306e08afeeb995",
            "41105e34d1294375b9ca52c5041f1710",
            "ec36acabc6d64733afaa1eaf83ac69d5",
            "b916bc4dc49c4789b6a0601d4ed2e8f7",
            "73cb85051a4d407ca3e100b14daa8c76",
            "c5712d734c8c4739948fe007e6caecea",
            "2c8fb55c562d417b91921fa0c8b380fa",
            "a0c638444aee48b6892c26866ff0e5db",
            "77648ad0383443268bf8a3699209a130",
            "0e9c38eddd094a65bb5bf3a03ece5393",
            "2c853be49a0b416092bf509452bf7eb5",
            "f63150860e564999a48777ff9bed447d",
            "c31a390f72254b6e9fd43c3ec216d7ec",
            "31551987a87f40e2ae3e5b140b2a0334",
            "25250cd8f3014488ac95521f810d25be",
            "ef80300a96a545f9bc98faeb62d79756",
            "127a2b45f8b34405ba86b255d7db27d9",
            "323e9ef260a642b1be56e5b7d0bc45fe",
            "1cb343d52d4e42089abe95c440ceed18",
            "7d9f92db37b24de2bec2429861674b47",
            "b148315b9cc8468e82bd212c90d1f5d7",
            "d9e1382a6fae4acba33c2dffabd565fa"
          ]
        },
        "outputId": "d5fa5be1-78f6-4483-e992-a3c14418fa03"
      },
      "execution_count": 51,
      "outputs": [
        {
          "output_type": "display_data",
          "data": {
            "text/plain": [
              "Downloading:   0%|          | 0.00/226k [00:00<?, ?B/s]"
            ],
            "application/vnd.jupyter.widget-view+json": {
              "version_major": 2,
              "version_minor": 0,
              "model_id": "2fa4b130339447aab7b0003fb2234e75"
            }
          },
          "metadata": {}
        },
        {
          "output_type": "display_data",
          "data": {
            "text/plain": [
              "Downloading:   0%|          | 0.00/28.0 [00:00<?, ?B/s]"
            ],
            "application/vnd.jupyter.widget-view+json": {
              "version_major": 2,
              "version_minor": 0,
              "model_id": "05705d03043d4c9cbd3dffe0f61eea54"
            }
          },
          "metadata": {}
        },
        {
          "output_type": "display_data",
          "data": {
            "text/plain": [
              "Downloading:   0%|          | 0.00/483 [00:00<?, ?B/s]"
            ],
            "application/vnd.jupyter.widget-view+json": {
              "version_major": 2,
              "version_minor": 0,
              "model_id": "7d23ffbcde234efcbd306e08afeeb995"
            }
          },
          "metadata": {}
        },
        {
          "output_type": "display_data",
          "data": {
            "text/plain": [
              "Downloading:   0%|          | 0.00/256M [00:00<?, ?B/s]"
            ],
            "application/vnd.jupyter.widget-view+json": {
              "version_major": 2,
              "version_minor": 0,
              "model_id": "f63150860e564999a48777ff9bed447d"
            }
          },
          "metadata": {}
        }
      ]
    },
    {
      "cell_type": "code",
      "source": [
        "#Converting string values to a sequence of ids (integer), using the tokenizer and vocabulary.\n",
        "inputs=bert['plot'].apply((lambda plot: tokenizer.encode(plot, add_special_tokens=True,max_length=100,truncation=True)))"
      ],
      "metadata": {
        "id": "MHFjzeddDxmV"
      },
      "execution_count": 52,
      "outputs": []
    },
    {
      "cell_type": "code",
      "source": [
        "inputs[0]"
      ],
      "metadata": {
        "id": "VkrnmSfoELzC",
        "colab": {
          "base_uri": "https://localhost:8080/"
        },
        "outputId": "ce195b40-59e8-4129-e24a-49322a687d8c"
      },
      "execution_count": 53,
      "outputs": [
        {
          "output_type": "execute_result",
          "data": {
            "text/plain": [
              "[101,\n",
              " 1037,\n",
              " 3492,\n",
              " 1010,\n",
              " 2759,\n",
              " 10563,\n",
              " 2064,\n",
              " 1005,\n",
              " 1056,\n",
              " 2175,\n",
              " 2041,\n",
              " 2006,\n",
              " 1037,\n",
              " 3058,\n",
              " 2127,\n",
              " 2014,\n",
              " 5665,\n",
              " 1011,\n",
              " 22148,\n",
              " 3080,\n",
              " 2905,\n",
              " 2515,\n",
              " 1012,\n",
              " 102]"
            ]
          },
          "metadata": {},
          "execution_count": 53
        }
      ]
    },
    {
      "cell_type": "code",
      "source": [
        "#representing the input as one 2-d array, rather than a list of lists (of different lengths).\n",
        "def padding(list_of_sent):\n",
        "  output=[]\n",
        "  max_len=100\n",
        "  for sent in list_of_sent.values:\n",
        "    padded_sent=sent+[0]*(max_len-len(sent))\n",
        "    output.append(padded_sent)\n",
        "  output=np.array(output)\n",
        "  return output"
      ],
      "metadata": {
        "id": "61fu_NDyESuR"
      },
      "execution_count": 54,
      "outputs": []
    },
    {
      "cell_type": "code",
      "source": [
        "inputs=padding(inputs)"
      ],
      "metadata": {
        "id": "2qcAqJZbEVG6"
      },
      "execution_count": 55,
      "outputs": []
    },
    {
      "cell_type": "code",
      "source": [
        "inputs[11]"
      ],
      "metadata": {
        "id": "n28eqUisEXco",
        "colab": {
          "base_uri": "https://localhost:8080/"
        },
        "outputId": "a4cf0e87-65fa-43a8-f681-e6801ce57348"
      },
      "execution_count": 56,
      "outputs": [
        {
          "output_type": "execute_result",
          "data": {
            "text/plain": [
              "array([  101,  1037,  4562, 21987,  1998,  1037, 10958, 21408,  2239,\n",
              "        2468,  3435,  2814,  2043,  2027,  1005,  2128,  7260,  2185,\n",
              "        2091,  1037,  2314,  1010,  2185,  2013,  2037,  2945,  1012,\n",
              "         102,     0,     0,     0,     0,     0,     0,     0,     0,\n",
              "           0,     0,     0,     0,     0,     0,     0,     0,     0,\n",
              "           0,     0,     0,     0,     0,     0,     0,     0,     0,\n",
              "           0,     0,     0,     0,     0,     0,     0,     0,     0,\n",
              "           0,     0,     0,     0,     0,     0,     0,     0,     0,\n",
              "           0,     0,     0,     0,     0,     0,     0,     0,     0,\n",
              "           0,     0,     0,     0,     0,     0,     0,     0,     0,\n",
              "           0,     0,     0,     0,     0,     0,     0,     0,     0,\n",
              "           0])"
            ]
          },
          "metadata": {},
          "execution_count": 56
        }
      ]
    },
    {
      "cell_type": "markdown",
      "source": [
        "If we directly send padded to BERT, that would slightly confuse it. We need to create another variable to tell it to ignore (mask) the padding we've added when it's processing its input. That's what attention_mask is:"
      ],
      "metadata": {
        "id": "ELW01UaLJ0GD"
      }
    },
    {
      "cell_type": "code",
      "source": [
        "mask=np.where(inputs!=0,1,0)"
      ],
      "metadata": {
        "id": "Lc-vQhTJEZj2"
      },
      "execution_count": 57,
      "outputs": []
    },
    {
      "cell_type": "code",
      "source": [
        "embedded_inputs=torch.tensor(inputs)\n",
        "attention_mask=torch.tensor(mask)"
      ],
      "metadata": {
        "id": "kliVbaKNEaeK"
      },
      "execution_count": 58,
      "outputs": []
    },
    {
      "cell_type": "code",
      "source": [
        "#The results of the processing will be returned into final_states.\n",
        "with torch.no_grad():\n",
        "  final_states = model(embedded_inputs, attention_mask=attention_mask)"
      ],
      "metadata": {
        "id": "V19cwG6EEdja"
      },
      "execution_count": 59,
      "outputs": []
    },
    {
      "cell_type": "code",
      "source": [
        "#Extracted features\n",
        "extracted_features=final_states[0][:,0,:].numpy()\n",
        "extracted_features"
      ],
      "metadata": {
        "id": "Ri6Jg-5UGu5C",
        "colab": {
          "base_uri": "https://localhost:8080/"
        },
        "outputId": "ee321021-a63f-4169-bb04-111114e5b944"
      },
      "execution_count": 60,
      "outputs": [
        {
          "output_type": "execute_result",
          "data": {
            "text/plain": [
              "array([[-0.08858871, -0.16396962, -0.02802457, ..., -0.12459738,\n",
              "         0.355413  ,  0.26825094],\n",
              "       [-0.25794283, -0.25276673, -0.18717615, ..., -0.05740415,\n",
              "         0.37812752,  0.48238036],\n",
              "       [-0.44859454, -0.35476866, -0.360466  , ...,  0.31453744,\n",
              "         0.37856892,  0.24996652],\n",
              "       ...,\n",
              "       [-0.43022212, -0.40504026, -0.29433456, ..., -0.11832004,\n",
              "         0.43650442,  0.41707504],\n",
              "       [-0.41191915, -0.37585133, -0.02398869, ..., -0.07679958,\n",
              "         0.23399453,  0.42657483],\n",
              "       [-0.37286854, -0.2835495 , -0.14210361, ..., -0.06741582,\n",
              "         0.42930105,  0.41614097]], dtype=float32)"
            ]
          },
          "metadata": {},
          "execution_count": 60
        }
      ]
    },
    {
      "cell_type": "code",
      "source": [
        "#generating the cosine similarity matrix\n",
        "cos_sim=cosine_similarity(extracted_features,extracted_features)\n",
        "cos_sim"
      ],
      "metadata": {
        "id": "U9TE0_otGx7e",
        "colab": {
          "base_uri": "https://localhost:8080/"
        },
        "outputId": "992f6e0d-36bc-469e-f3a1-3ffc8e4f6ac6"
      },
      "execution_count": 61,
      "outputs": [
        {
          "output_type": "execute_result",
          "data": {
            "text/plain": [
              "array([[0.9999999 , 0.88371813, 0.8533407 , ..., 0.9081422 , 0.93015504,\n",
              "        0.9044118 ],\n",
              "       [0.88371813, 1.0000001 , 0.89891803, ..., 0.95299524, 0.9349104 ,\n",
              "        0.95558864],\n",
              "       [0.8533407 , 0.89891803, 1.0000002 , ..., 0.8979055 , 0.883198  ,\n",
              "        0.8919624 ],\n",
              "       ...,\n",
              "       [0.9081422 , 0.95299524, 0.8979055 , ..., 0.9999999 , 0.9392922 ,\n",
              "        0.9577177 ],\n",
              "       [0.93015504, 0.9349104 , 0.883198  , ..., 0.9392922 , 0.9999998 ,\n",
              "        0.94566405],\n",
              "       [0.9044118 , 0.95558864, 0.8919624 , ..., 0.9577177 , 0.94566405,\n",
              "        1.0000001 ]], dtype=float32)"
            ]
          },
          "metadata": {},
          "execution_count": 61
        }
      ]
    },
    {
      "cell_type": "code",
      "source": [
        "bert_new = bert[['imdb_id', 'title', 'genre', 'director', 'keywords', 'actors', 'plot']]"
      ],
      "metadata": {
        "id": "f09RYG-PRMdW"
      },
      "execution_count": 62,
      "outputs": []
    },
    {
      "cell_type": "code",
      "source": [
        "#We reset the index since the index values are incorrect.\n",
        "bert_new.reset_index(inplace=True)"
      ],
      "metadata": {
        "id": "sBsTXu2zQGaW"
      },
      "execution_count": 63,
      "outputs": []
    },
    {
      "cell_type": "code",
      "source": [
        "# creating a series for shows titles which can be used as indices (each index is mapped to a title)\n",
        "indices = pd.Series(bert_new['title'])\n",
        "indices[:5]"
      ],
      "metadata": {
        "id": "Aq2ffznFZ8RW",
        "colab": {
          "base_uri": "https://localhost:8080/"
        },
        "outputId": "244706d0-32b8-42b1-868c-49b3a5ff14c8"
      },
      "execution_count": 64,
      "outputs": [
        {
          "output_type": "execute_result",
          "data": {
            "text/plain": [
              "0                    10 Things I Hate About You\n",
              "1                                101 Dalmatians\n",
              "2    101 Dalmatians 2: Patch's London Adventure\n",
              "3                                102 Dalmatians\n",
              "4                         12 Dates of Christmas\n",
              "Name: title, dtype: object"
            ]
          },
          "metadata": {},
          "execution_count": 64
        }
      ]
    },
    {
      "cell_type": "code",
      "source": [
        "# this function takes in a movie title as input and returns the top 15 recommended (similar) shows\n",
        "\n",
        "def recommenddd(title, cosine_sim = cos_sim):\n",
        "    recommended = []\n",
        "    idx = indices[indices == title].index[0]   # to get the index of the shows title matching the input movie\n",
        "    similarity_scores = pd.Series(cos_sim[idx]).sort_values(ascending = False)   # similarity scores in descending order\n",
        "    top_15_indices = list(similarity_scores.iloc[1:16].index)   # to get the indices of top 15 most similar movies\n",
        "    # [1:16] to exclude 0 (index 0 is the input movie itself)\n",
        "    \n",
        "    for i in top_15_indices:   # to append the titles of top 15 similar shows \n",
        "        recommended.append(list(bert_new['title'])[i])\n",
        "        \n",
        "    return recommended\n"
      ],
      "metadata": {
        "id": "5M6N-hTRs_-i"
      },
      "execution_count": 65,
      "outputs": []
    },
    {
      "cell_type": "code",
      "source": [
        "recommenddd(\"A Bug's Life\")"
      ],
      "metadata": {
        "id": "qGzmdz4WtoJY",
        "colab": {
          "base_uri": "https://localhost:8080/"
        },
        "outputId": "3b3e48c1-c0ae-4dc2-91e5-d2d9d4ce55c0"
      },
      "execution_count": 66,
      "outputs": [
        {
          "output_type": "execute_result",
          "data": {
            "text/plain": [
              "['The Million Dollar Duck',\n",
              " 'Chicken Little',\n",
              " 'Dumbo',\n",
              " 'Frankenweenie',\n",
              " 'Flubber',\n",
              " \"Don't Look Under the Bed\",\n",
              " 'G-Force',\n",
              " 'The Muppet Movie',\n",
              " 'Dinosaur',\n",
              " 'The BFG',\n",
              " 'James and the Giant Peach',\n",
              " 'Zootopia',\n",
              " 'Atlantis: The Lost Empire',\n",
              " '101 Dalmatians',\n",
              " 'John Carter']"
            ]
          },
          "metadata": {},
          "execution_count": 66
        }
      ]
    },
    {
      "cell_type": "code",
      "source": [
        "recommenddd(\"Star Wars: Episode IV - A New Hope\")"
      ],
      "metadata": {
        "id": "jYxK_QFhOWMZ",
        "colab": {
          "base_uri": "https://localhost:8080/"
        },
        "outputId": "ce08e6aa-0355-406b-b12d-8fcb2198bb38"
      },
      "execution_count": 67,
      "outputs": [
        {
          "output_type": "execute_result",
          "data": {
            "text/plain": [
              "['Star Wars: Episode V - The Empire Strikes Back',\n",
              " 'Star Wars: Episode VI - Return of the Jedi',\n",
              " 'Star Wars: Episode VII - The Force Awakens',\n",
              " 'Star Wars: Episode II - Attack of the Clones',\n",
              " 'Star Wars: Episode III - Revenge of the Sith',\n",
              " 'Star Wars: Episode VIII - The Last Jedi',\n",
              " 'Ant-Man',\n",
              " 'Leroy & Stitch',\n",
              " 'The New Yoda Chronicles: Raid on Coruscant',\n",
              " 'Stitch! The Movie',\n",
              " 'Captain America: The Winter Soldier',\n",
              " \"Pirates of the Caribbean: Dead Man's Chest\",\n",
              " \"Atlantis: Milo's Return\",\n",
              " 'Marvel Rising: Heart of Iron',\n",
              " 'Thor: Ragnarok']"
            ]
          },
          "metadata": {},
          "execution_count": 67
        }
      ]
    },
    {
      "cell_type": "markdown",
      "source": [
        "# The **frontend** section\n",
        "\n",
        "In Python, any object can be pickled and stored to disc. Pickling is a method for converting a Python object (list, dictionary, etc.) into a character stream. The concept is that this character stream provides all of the information required to recreate the object in a another Python script."
      ],
      "metadata": {
        "id": "9H0_EWBRtNcu"
      }
    },
    {
      "cell_type": "code",
      "source": [
        "import pickle"
      ],
      "metadata": {
        "id": "AFt4Esl4tPWM"
      },
      "execution_count": 68,
      "outputs": []
    },
    {
      "cell_type": "code",
      "source": [
        "pickle.dump(shows,open('disney.pkl','wb'))"
      ],
      "metadata": {
        "id": "Xz-OhwEctV42"
      },
      "execution_count": 69,
      "outputs": []
    },
    {
      "cell_type": "code",
      "source": [
        "pickle.dump(shows.to_dict(),open('disney_dict.pkl','wb'))"
      ],
      "metadata": {
        "id": "gUYagY0VvoQW"
      },
      "execution_count": 70,
      "outputs": []
    },
    {
      "cell_type": "code",
      "source": [
        "pickle.dump(gdka.to_dict(),open('gdka-dataset.pkl','wb'))"
      ],
      "metadata": {
        "id": "u30YfBvjRdmj"
      },
      "execution_count": 71,
      "outputs": []
    },
    {
      "cell_type": "code",
      "source": [
        "pickle.dump(cosine_sim,open('gdka.pkl','wb'))"
      ],
      "metadata": {
        "id": "56wr2j7WNFhQ"
      },
      "execution_count": 72,
      "outputs": []
    },
    {
      "cell_type": "code",
      "source": [
        "pickle.dump(cos_sim,open('bert.pkl','wb'))"
      ],
      "metadata": {
        "id": "C6jv4noq3AFu"
      },
      "execution_count": 73,
      "outputs": []
    },
    {
      "cell_type": "code",
      "source": [
        "pickle.dump(bert_new.to_dict(),open('bert_dataset.pkl','wb'))"
      ],
      "metadata": {
        "id": "GZ6-9hHD3nIb"
      },
      "execution_count": 74,
      "outputs": []
    },
    {
      "cell_type": "code",
      "source": [
        "pickle.dump(top_movies.to_dict(),open('top_movies.pkl','wb'))\n",
        "pickle.dump(top_episodes.to_dict(),open('top_episodes.pkl','wb'))\n",
        "pickle.dump(top_shows.to_dict(),open('top_shows.pkl','wb'))"
      ],
      "metadata": {
        "id": "aBRB1SJpTnlB"
      },
      "execution_count": 75,
      "outputs": []
    }
  ]
}
